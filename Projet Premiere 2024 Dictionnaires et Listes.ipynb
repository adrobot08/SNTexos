{
 "cells": [
  {
   "cell_type": "markdown",
   "metadata": {},
   "source": [
    "<h1><center><span style=\"color:#369;background:#fdf;padding: 10px 30px 10px 30px;border: 3px solid #369;border-radius:7px;\">Projet sur les dictionnaires et les listes de listes</span></center></h1>"
   ]
  },
  {
   "cell_type": "markdown",
   "metadata": {},
   "source": [
    "A faire en binôme. Indiquer le nom des deux participants et le TP à corriger."
   ]
  },
  {
   "cell_type": "code",
   "execution_count": null,
   "metadata": {
    "trusted": false
   },
   "outputs": [],
   "source": [
    "Nom de la premiére personne:Pinto Ramos Nicola\n",
    "Nom de la deuxiéme personne:Rognier Adrien\n",
    "Nom du TP à corriger:Rognier Adrien"
   ]
  },
  {
   "cell_type": "markdown",
   "metadata": {},
   "source": [
    "# Quelques rappels\n",
    "- Un dictionnaire est un ensemble composé de clés et de valeurs, par exemple, `d = {'arthur':12,'benjamin':18,'céline':15}` où les clés `'arthur'`, `'benjamin'` et `'céline'` sont respctivement associées aux valeurs 12, 18 et 15.\n",
    "- Pour récupérer la valeur associée à une clé : l'instruction `d['benjamin']` est la valeur associée à la clé `'benjamin'` c'est-à-dire 18 ici. Mais attention car la clé doit être une clé du dictionnaire sinon Python renvoie une erreur.\n",
    "- Pour ajouter une clé et la valeur associée : l'instruction `d['damien'] = 14` va ajouter la clé `damien'` associée à la valeur 14.\n",
    "- Pour modifier la valeur d'une clé d'un dictionnaire : l'instruction `d['céline'] = 17` va modifier la valeur associée à la clé `'céline'`.\n",
    "- De la même façon qu'une liste vide se note soit `[]` soit `list()`, un dictionnaire vide se note soit `{}` soit `dict()`. \n",
    "- `len(d)` est le nombre d'éléments de clés du dictionnaire `d`.\n",
    "\n",
    "## Pour parcourir un dictionnaire, il y a plusieurs possibilités :\n",
    "- en parcourant les clés avec `for cle in d:` ou ce qui revient au même `for cle in d.keys():`\n",
    "- en parcourant seulement les valeurs (à faire si on n'a besoin uniquement des valeurs) avec `for val in d.values():`\n",
    "- en parcourant les couples (clé,valeur) avec `for cle,val in d.items():`\n",
    "\n",
    "## Exemple.\n",
    "Exécuter les codes suivants pour bien comprendre."
   ]
  },
  {
   "cell_type": "code",
   "execution_count": 1,
   "metadata": {
    "trusted": true
   },
   "outputs": [],
   "source": [
    "d = {'arthur':12,'benjamin':18,'céline':15}\n"
   ]
  },
  {
   "cell_type": "code",
   "execution_count": 2,
   "metadata": {
    "trusted": true
   },
   "outputs": [
    {
     "name": "stdout",
     "output_type": "stream",
     "text": [
      "arthur\n",
      "benjamin\n",
      "céline\n"
     ]
    }
   ],
   "source": [
    "# en parcourant les clés\n",
    "for cle in d:\n",
    "    print(cle)"
   ]
  },
  {
   "cell_type": "code",
   "execution_count": 3,
   "metadata": {
    "trusted": true
   },
   "outputs": [
    {
     "name": "stdout",
     "output_type": "stream",
     "text": [
      "12\n",
      "18\n",
      "15\n"
     ]
    }
   ],
   "source": [
    "# en parcourant seulement les valeurs\n",
    "for val in d.values():\n",
    "    print(val)"
   ]
  },
  {
   "cell_type": "code",
   "execution_count": 4,
   "metadata": {
    "trusted": true
   },
   "outputs": [
    {
     "name": "stdout",
     "output_type": "stream",
     "text": [
      "arthur\n",
      "12\n",
      "benjamin\n",
      "18\n",
      "céline\n",
      "15\n"
     ]
    }
   ],
   "source": [
    "# en parcourant les couples (clé,valeur)\n",
    "for cle,val in d.items():\n",
    "    print(cle)\n",
    "    print(val)"
   ]
  },
  {
   "cell_type": "markdown",
   "metadata": {},
   "source": [
    "Noter qu'en parcourant les clés, on peut aussi obtenir les valeurs :"
   ]
  },
  {
   "cell_type": "code",
   "execution_count": 5,
   "metadata": {
    "trusted": true
   },
   "outputs": [
    {
     "name": "stdout",
     "output_type": "stream",
     "text": [
      "arthur\n",
      "12\n",
      "benjamin\n",
      "18\n",
      "céline\n",
      "15\n"
     ]
    }
   ],
   "source": [
    "# en parcourant les clés, on peut retrouver les valeurs\n",
    "for cle in d:\n",
    "    print(cle)\n",
    "    print(d[cle])"
   ]
  },
  {
   "cell_type": "markdown",
   "metadata": {},
   "source": [
    "On commence par des exercices très simples notés avec une seule étoile où on peut à chaque fois parcourir les listes ou chaînes de caractères élément par élément."
   ]
  },
  {
   "cell_type": "markdown",
   "metadata": {},
   "source": [
    "## Exercice 1 *\n",
    "Sans utiliser la fonction `sum` de Python, écrire une fonction `sommeSurDico` qui prend en argument un dictionnaire `d` dont les valeurs sont des nombres et qui renvoie la somme des valeurs de `d`.\n",
    "\n",
    "Exemple:\n",
    "```python\n",
    ">>>d={\"a\":4,\"b\":5,\"c\":6}\n",
    ">>>sommeSurDico(d)\n",
    "15\n",
    "````"
   ]
  },
  {
   "cell_type": "code",
   "execution_count": 8,
   "metadata": {
    "trusted": true
   },
   "outputs": [],
   "source": [
    "def sommeSurDico(d:{str:int})->int:\n",
    "    \"\"\"Renvoie la somme des valeurs du dictionnaire d\"\"\"\n",
    "    a=0\n",
    "    for valeur in d.values():\n",
    "        a+=valeur\n",
    "    return a"
   ]
  },
  {
   "cell_type": "code",
   "execution_count": 11,
   "metadata": {
    "trusted": true
   },
   "outputs": [
    {
     "name": "stdout",
     "output_type": "stream",
     "text": [
      "15\n",
      "16\n",
      "-5\n",
      "-974\n",
      "0\n"
     ]
    }
   ],
   "source": [
    "# test de la fonction\n",
    "print(sommeSurDico({\"a\":4,\"b\":5,\"c\":6}))\n",
    "print(sommeSurDico({\"a\":3,\"b\":6,\"c\":7}))\n",
    "print(sommeSurDico({\"a\":-9,\"b\":3,\"c\":1}))\n",
    "print(sommeSurDico({\"a\":2,\"b\":11,\"c\":-987}))\n",
    "print(sommeSurDico({}))"
   ]
  },
  {
   "cell_type": "markdown",
   "metadata": {},
   "source": [
    "### Vérifier en executant la cellule suivante"
   ]
  },
  {
   "cell_type": "code",
   "execution_count": 12,
   "metadata": {
    "trusted": true
   },
   "outputs": [
    {
     "name": "stderr",
     "output_type": "stream",
     "text": [
      "Traceback (most recent call last):\n",
      "  File \"<basthon-input-12-7f9838f3ca52>\", line 1, in <module>\n",
      "    Test(globals(),sommeSurDico)\n",
      "    ^^^^\n",
      "NameError: name 'Test' is not defined\n"
     ]
    }
   ],
   "source": [
    "Test(globals(),sommeSurDico)"
   ]
  },
  {
   "cell_type": "markdown",
   "metadata": {},
   "source": [
    "## Exercice 2 *\n",
    "En utilisant la fonction `sommeSurDico` précédente, écrire une fonction `moyenneSurDico` qui prend en argument un dictionnaire `d` non vide dont les valeurs sont des nombres et qui renvoie la moyenne des valeurs de `d`\n",
    "\n",
    "Exemple:\n",
    "```python\n",
    ">>>d={\"a\":4,\"b\":5,\"c\":6}\n",
    ">>>moyenneSurDico(d)\n",
    "5.0\n",
    "````"
   ]
  },
  {
   "cell_type": "code",
   "execution_count": 16,
   "metadata": {
    "trusted": true
   },
   "outputs": [],
   "source": [
    "def moyenneSurDico(d:{str:int})->float:\n",
    "    \"\"\"renvoie la moyenne des valeurs du dictionnaire d\"\"\"\n",
    "    if len(d)==0:\n",
    "        return None\n",
    "    return sommeSurDico(d)/len(d.values())"
   ]
  },
  {
   "cell_type": "code",
   "execution_count": 18,
   "metadata": {
    "trusted": true
   },
   "outputs": [
    {
     "name": "stdout",
     "output_type": "stream",
     "text": [
      "5.0\n",
      "5.333333333333333\n",
      "-1.6666666666666667\n",
      "-324.6666666666667\n",
      "None\n"
     ]
    }
   ],
   "source": [
    "# test de la fonction\n",
    "print(moyenneSurDico({\"a\":4,\"b\":5,\"c\":6}))\n",
    "print(moyenneSurDico({\"a\":3,\"b\":6,\"c\":7}))\n",
    "print(moyenneSurDico({\"a\":-9,\"b\":3,\"c\":1}))\n",
    "print(moyenneSurDico({\"a\":2,\"b\":11,\"c\":-987}))\n",
    "print(moyenneSurDico({}))"
   ]
  },
  {
   "cell_type": "markdown",
   "metadata": {},
   "source": [
    "## Exercice 3 *\n",
    "Sans utiliser la fonction `max` de Python, écrire une fonction `maxDico` qui prend en argument un dictionnaire `d` non vide dont les valeurs sont des nombres et qui renvoie la valeur maximale de `d`.\n",
    "\n",
    "Exemple:\n",
    "```python\n",
    ">>>d={\"a\":4,\"b\":5,\"c\":6}\n",
    ">>>maxDico(d)\n",
    "6\n",
    "````"
   ]
  },
  {
   "cell_type": "code",
   "execution_count": 23,
   "metadata": {
    "trusted": true
   },
   "outputs": [],
   "source": [
    "def maxDico(d:{str:int})->int:\n",
    "    \"\"\"renvoie la plus grande valeur du dictionnaire d\"\"\"\n",
    "    if len(d) == 0:\n",
    "        return None\n",
    "    vals = list(d.values())\n",
    "    max=vals[0]\n",
    "    for ele in vals:\n",
    "        if ele>max:\n",
    "            max=ele\n",
    "    return max\n",
    "        "
   ]
  },
  {
   "cell_type": "code",
   "execution_count": 25,
   "metadata": {
    "trusted": true
   },
   "outputs": [
    {
     "name": "stdout",
     "output_type": "stream",
     "text": [
      "7\n",
      "-3\n",
      "3\n",
      "11\n",
      "None\n"
     ]
    }
   ],
   "source": [
    "# test de la fonction\n",
    "print(maxDico({\"a\":4,\"b\":7,\"c\":6}))\n",
    "print(maxDico({\"a\":-3,\"b\":-6,\"c\":-7}))\n",
    "print(maxDico({\"a\":-9,\"b\":3,\"c\":1}))\n",
    "print(maxDico({\"a\":2,\"b\":11,\"c\":-987}))\n",
    "print(maxDico({}))"
   ]
  },
  {
   "cell_type": "markdown",
   "metadata": {},
   "source": [
    "## Exercice 4 **\n",
    "Ecrire une fonction `creerDico` qui prend en argument deux listes `cles` et `valeurs` de même longueur qui renvoie un dictionnaire composés des clés de la liste `cles` et des valeurs de la liste `valeurs`. \n",
    "\n",
    "Par exemple, \n",
    "```python\n",
    ">>>creerDico(['adrien','carla'],[13,16])\n",
    "{'adrien':13,'carla':16}\n",
    "```"
   ]
  },
  {
   "cell_type": "code",
   "execution_count": 26,
   "metadata": {
    "trusted": true
   },
   "outputs": [],
   "source": [
    "def creerDico(cles:list[str],valeurs:list[int])->{str:int}:\n",
    "    \"\"\"\"renvoie un dictionnaire composés des clés de la liste 'cles' et des valeurs de la liste 'valeurs'\"\"\"\n",
    "    if len(cles)!=len(valeurs):\n",
    "        return None\n",
    "    dicoL={}\n",
    "    for i in range(len(cles)):\n",
    "        dicoL[cles[i]]=valeurs[i]\n",
    "    return dicoL                      \n",
    "\n",
    "\n"
   ]
  },
  {
   "cell_type": "code",
   "execution_count": 27,
   "metadata": {
    "trusted": true
   },
   "outputs": [
    {
     "name": "stdout",
     "output_type": "stream",
     "text": [
      "{'adrien': 13, 'carla': 16}\n",
      "None\n",
      "{'lésargus': 'eau', 'dracofeu': 'feu', 'bulbizarre': 'plante'}\n"
     ]
    }
   ],
   "source": [
    "# test de la fonction\n",
    "print(creerDico(['adrien','carla'],[13,16]))\n",
    "print(creerDico(['adrien'],[13,16]))\n",
    "print(creerDico(['lésargus','dracofeu','bulbizarre'],['eau','feu','plante']))"
   ]
  },
  {
   "cell_type": "markdown",
   "metadata": {},
   "source": [
    "## Exercice 5 **\n",
    "Ecrire une fonction `listeDeClesDeValeurs` qui prend en argument un dictionnaire `d` et une valeur `v` et qui renvoie la liste des clés de `d` de valeur égale à `v`.\n",
    "\n",
    "Par exemple,\n",
    "```python\n",
    ">>>listeDeClesDeValeurs({'a':13,'b':16,'c':13},13) \n",
    "['a','c']\n",
    ">>>listeDeClesDeValeurs({'a':13,'b':16,'c':13},12)\n",
    "[]\n",
    "```"
   ]
  },
  {
   "cell_type": "code",
   "execution_count": 31,
   "metadata": {
    "trusted": true
   },
   "outputs": [],
   "source": [
    "def listeDeClesDeValeurs(d:dict,v:int)->list:\n",
    "    \"\"\"prend en argument un dictionnaire d et une valeur v et renvoie \n",
    "    la liste des clés de d de valeur égale à v\"\"\"\n",
    "    L=[]\n",
    "    for ele in d.keys():\n",
    "        if d[ele]==v:\n",
    "            L.append(ele)\n",
    "    return L"
   ]
  },
  {
   "cell_type": "code",
   "execution_count": 1,
   "metadata": {
    "trusted": true
   },
   "outputs": [
    {
     "ename": "NameError",
     "evalue": "name 'listeDeClesDeValeurs' is not defined",
     "output_type": "error",
     "traceback": [
      "\u001b[0;31m---------------------------------------------------------------------------\u001b[0m",
      "\u001b[0;31mNameError\u001b[0m                                 Traceback (most recent call last)",
      "Cell \u001b[0;32mIn[1], line 2\u001b[0m\n\u001b[1;32m      1\u001b[0m \u001b[38;5;66;03m# test de la fonction\u001b[39;00m\n\u001b[0;32m----> 2\u001b[0m \u001b[38;5;28mprint\u001b[39m(\u001b[43mlisteDeClesDeValeurs\u001b[49m({\u001b[38;5;124m'\u001b[39m\u001b[38;5;124ma\u001b[39m\u001b[38;5;124m'\u001b[39m:\u001b[38;5;241m13\u001b[39m,\u001b[38;5;124m'\u001b[39m\u001b[38;5;124mb\u001b[39m\u001b[38;5;124m'\u001b[39m:\u001b[38;5;241m16\u001b[39m,\u001b[38;5;124m'\u001b[39m\u001b[38;5;124mc\u001b[39m\u001b[38;5;124m'\u001b[39m:\u001b[38;5;241m13\u001b[39m},\u001b[38;5;241m13\u001b[39m)) \n\u001b[1;32m      3\u001b[0m \u001b[38;5;28mprint\u001b[39m(listeDeClesDeValeurs({\u001b[38;5;124m'\u001b[39m\u001b[38;5;124ma\u001b[39m\u001b[38;5;124m'\u001b[39m:\u001b[38;5;241m13\u001b[39m,\u001b[38;5;124m'\u001b[39m\u001b[38;5;124mb\u001b[39m\u001b[38;5;124m'\u001b[39m:\u001b[38;5;241m16\u001b[39m,\u001b[38;5;124m'\u001b[39m\u001b[38;5;124mc\u001b[39m\u001b[38;5;124m'\u001b[39m:\u001b[38;5;241m13\u001b[39m},\u001b[38;5;241m12\u001b[39m)) \n\u001b[1;32m      4\u001b[0m \u001b[38;5;28mprint\u001b[39m(listeDeClesDeValeurs({\u001b[38;5;124m'\u001b[39m\u001b[38;5;124ma\u001b[39m\u001b[38;5;124m'\u001b[39m:\u001b[38;5;124m'\u001b[39m\u001b[38;5;124mtoto\u001b[39m\u001b[38;5;124m'\u001b[39m,\u001b[38;5;124m'\u001b[39m\u001b[38;5;124mb\u001b[39m\u001b[38;5;124m'\u001b[39m:\u001b[38;5;241m16\u001b[39m,\u001b[38;5;124m'\u001b[39m\u001b[38;5;124mc\u001b[39m\u001b[38;5;124m'\u001b[39m:\u001b[38;5;241m13\u001b[39m},\u001b[38;5;124m'\u001b[39m\u001b[38;5;124mtoto\u001b[39m\u001b[38;5;124m'\u001b[39m))\n",
      "\u001b[0;31mNameError\u001b[0m: name 'listeDeClesDeValeurs' is not defined"
     ]
    }
   ],
   "source": [
    "# test de la fonction\n",
    "print(listeDeClesDeValeurs({'a':13,'b':16,'c':13},13)) \n",
    "print(listeDeClesDeValeurs({'a':13,'b':16,'c':13},12)) \n",
    "print(listeDeClesDeValeurs({'a':'toto','b':16,'c':13},'toto'))\n",
    "print(listeDeClesDeValeurs({'a':'titi','b':16,'c':13},'toto'))"
   ]
  },
  {
   "cell_type": "markdown",
   "metadata": {},
   "source": [
    "## Exercice 6 **\n",
    "Ecrire une fonction `occurrences` qui prend en argument une chaine de caractères `chaine` et qui renvoie un dictionnaire dont les clés sont les caractères de `chaine` et dont les valeurs sont les nombres d'apparitions de chaque caractère. \n",
    "\n",
    "Par exemple, \n",
    "```python\n",
    ">>>occurrences('bonjour')\n",
    "{'b':1,'o':2,'n':1,'j':1,'u':1,'r':1}\n",
    "```"
   ]
  },
  {
   "cell_type": "code",
   "execution_count": 38,
   "metadata": {
    "trusted": true
   },
   "outputs": [],
   "source": [
    "def occurrences(chaine:str)->{str:int}:\n",
    "    \"\"\"prend en argument une chaine de caractères chaine et renvoie un dictionnaire dont les clés \n",
    "    sont les caractères de chaine et dont les valeurs sont les nombres d'apparitions de chaque caractère.\"\"\"\n",
    "    dico={}\n",
    "    for ele in chaine:\n",
    "        if ele not in dico:\n",
    "            dico[ele]=chaine.count(ele)\n",
    "    return dico\n",
    "            "
   ]
  },
  {
   "cell_type": "code",
   "execution_count": 39,
   "metadata": {
    "trusted": true
   },
   "outputs": [
    {
     "name": "stdout",
     "output_type": "stream",
     "text": [
      "{'b': 1, 'o': 2, 'n': 1, 'j': 1, 'u': 1, 'r': 1}\n",
      "{'E': 1, 'c': 17, 'r': 17, 'i': 13, 'e': 29, ' ': 37, 'u': 9, 'n': 21, 'f': 1, 'o': 11, 't': 13, 's': 13, 'q': 3, 'p': 3, 'd': 8, 'a': 15, 'g': 1, 'm': 2, 'h': 4, 'è': 3, 'v': 2, 'l': 6, 'é': 1, 'b': 1, '.': 1}\n"
     ]
    }
   ],
   "source": [
    "# test de la fonction\n",
    "print(occurrences('bonjour'))\n",
    "print(occurrences('Ecrire une fonction occurrences qui prend en argument une chaine de caractères chaine et qui renvoie un dictionnaire dont les clés sont les caractères de chaine et dont les valeurs sont les nombres d apparitions de chaque caractère.'))"
   ]
  },
  {
   "cell_type": "markdown",
   "metadata": {},
   "source": [
    "On poursuit avec des exercices un peu plus difficiles notés avec deux étoiles ..."
   ]
  },
  {
   "cell_type": "markdown",
   "metadata": {},
   "source": [
    "## Exercice 7 **\n",
    "Ecrire une fonction `aUneMemeValeur` qui prend en argument deux dictionnaires et qui renvoie `True` si il existe une valeur commune à ces deux dictionnaires et `False` sinon.\n",
    "\n",
    "Par exemple,\n",
    "```python\n",
    ">>>aUneMemeValeur({'adrien':13,'carla':16},{'aline':15,'celine':14,'benjamin':16})\n",
    "True\n",
    "```\n",
    "puisque il y a une valeur commune qui est ici 16. \n",
    "\n",
    "Par contre, \n",
    "```python\n",
    ">>>aUneMemeValeur({'adrien':13,'carla':16},{'aline':15,'celine':11,'benjamin':11})\n",
    "False\n",
    "```\n",
    "\n",
    "puisqu'il n'y a aucune valeur commune entre les deux dictionnaires.\n",
    "\n",
    "**Indication** : on pourra effectuer une double boucle sur chacun des deux dictionnaires"
   ]
  },
  {
   "cell_type": "code",
   "execution_count": 40,
   "metadata": {
    "trusted": true
   },
   "outputs": [],
   "source": [
    "def aUneMemeValeur(dico1:{str:int},dico2:{str,int})->bool:\n",
    "    \"\"\"prend en argument deux dictionnaires et qui renvoie True si il existe une valeur commune à ces deux dictionnaires \n",
    "        et False sinon.\"\"\"\n",
    "    for ele in dico1.keys():\n",
    "        for ele2 in dico2.keys():\n",
    "            if dico1[ele]==dico2[ele2]:\n",
    "                return True\n",
    "    return False\n",
    "    "
   ]
  },
  {
   "cell_type": "code",
   "execution_count": 41,
   "metadata": {
    "trusted": true
   },
   "outputs": [
    {
     "name": "stdout",
     "output_type": "stream",
     "text": [
      "True\n",
      "False\n",
      "True\n"
     ]
    }
   ],
   "source": [
    "# test de la fonction\n",
    "print(aUneMemeValeur({'adrien':13,'carla':16},{'aline':15,'celine':14,'benjamin':16}))\n",
    "print(aUneMemeValeur({'adrien':13,'carla':16},{'aline':15,'celine':11,'benjamin':11}))\n",
    "print(aUneMemeValeur({'':'','':''},{'':'','':''}))"
   ]
  },
  {
   "cell_type": "markdown",
   "metadata": {},
   "source": [
    "## Liste de listes\n",
    "Exemple de liste de listes :\n",
    "``` python\n",
    "    L = [ [ 5, 4, 1],\n",
    "          [ 3, 2, 5],\n",
    "          [ 8, 7, 9] ]\n",
    "```\n",
    "\n",
    "\n",
    "    \n",
    "- `L[0]` correspond à la 1ère liste : `[5,4,1]`\n",
    "- `L[0][0]` correspond au 1er nombre de la 1ère liste : 5\n",
    "- `L[0][2]` correspond au 3ème nombre de la 1ère liste : 1\n",
    "- De façon générale, `L[i][j]` correspond au nombre situé à la ième ligne et la jème colonne"
   ]
  },
  {
   "cell_type": "markdown",
   "metadata": {},
   "source": [
    "Pour créer une liste de listes (utile pour les exercices 11 et 12), il y a deux façons. Exécuter les deux cellules suivantes pour bien comprendre."
   ]
  },
  {
   "cell_type": "code",
   "execution_count": 48,
   "metadata": {
    "trusted": false
   },
   "outputs": [
    {
     "name": "stdout",
     "output_type": "stream",
     "text": [
      "[[0, 0, 0, 0, 0], [0, 0, 0, 0, 0], [0, 0, 0, 0, 0]]\n"
     ]
    }
   ],
   "source": [
    "# Pour créer une liste de 3 listes composées chacune de 5 zéros\n",
    "L = []\n",
    "for i in range(3):     # pour chaque ligne i\n",
    "    L.append([])       # on crée une liste vide\n",
    "    for j in range(5): # pour chaque colonne j\n",
    "        L[i].append(0) # on ajoute la valeur désirée à la liste de la ième ligne\n",
    "print(L)"
   ]
  },
  {
   "cell_type": "code",
   "execution_count": 49,
   "metadata": {
    "trusted": false
   },
   "outputs": [
    {
     "name": "stdout",
     "output_type": "stream",
     "text": [
      "[[0, 0, 0, 0, 0], [0, 0, 0, 0, 0], [0, 0, 0, 0, 0]]\n"
     ]
    }
   ],
   "source": [
    "# La même chose par compréhension ce que permet Python\n",
    "L = [[0 for j in range(5)] for i in range(3)] # on rappelle que [0 for j in range(5)] correspond à la liste [0,0,0,0,0,0]\n",
    "print(L)"
   ]
  },
  {
   "cell_type": "markdown",
   "metadata": {},
   "source": [
    "## Exercice 8 **\n",
    "Ecrire une fonction `sommeListeDeListes` qui prend en argument une liste de listes et qui renvoie la somme de toutes les valeurs.\n",
    "\n",
    "**Indication** : on pourra effectuer une double boucle\n",
    "\n",
    "Exemple:\n",
    "```python\n",
    ">>>L = [ [ 5, 4, 1],\n",
    "         [ 3, 2, 5],\n",
    "         [ 8, 7, 9] ]\n",
    ">>>sommeListeDeListes(L)\n",
    "44\n",
    "```"
   ]
  },
  {
   "cell_type": "code",
   "execution_count": 42,
   "metadata": {
    "trusted": true
   },
   "outputs": [],
   "source": [
    "def sommeListeDeListes(L:list[list])->float:\n",
    "    \"\"\"prend en argument une liste de listes et renvoie la somme de toutes les valeurs\"\"\"\n",
    "    a=0\n",
    "    for ele in L:\n",
    "        for ele2 in ele:\n",
    "            a+=ele2\n",
    "    return a"
   ]
  },
  {
   "cell_type": "code",
   "execution_count": 47,
   "metadata": {
    "trusted": true
   },
   "outputs": [
    {
     "name": "stdout",
     "output_type": "stream",
     "text": [
      "44\n",
      "27.05\n",
      "14.7\n"
     ]
    }
   ],
   "source": [
    "# test de la fonction\n",
    "L = [ [ 5, 4, 1],\n",
    "        [ 3, 2, 5],\n",
    "        [ 8, 7, 9] ]\n",
    "print(sommeListeDeListes(L))\n",
    "print(sommeListeDeListes([ [ 5, 4, 1],[ 3, 2.05, 5, 2],[ -8, 3, 9],[1] ]))\n",
    "print(sommeListeDeListes([ [ 5, -4.4, 1],[ 3, 2],[ 8, -7.9, 9],[-1] ]))"
   ]
  },
  {
   "cell_type": "markdown",
   "metadata": {},
   "source": [
    "## Exercice 9 **\n",
    "Ecrire une fonction `occurrencesValeurListeDeListes` qui prend en argument une liste de listes et une valeur `v` et qui renvoie le nombre de fois qu'apparait la valeur `v`.\n",
    "\n",
    "Exemple:\n",
    "```python\n",
    ">>>L = [ [ 5, 4, 1],\n",
    "         [ 3, 5, 5],\n",
    "         [ 8, 7, 5] ]\n",
    ">>>occurrencesValeurListeDeListes(L,5)\n",
    "4\n",
    "```"
   ]
  },
  {
   "cell_type": "code",
   "execution_count": 49,
   "metadata": {
    "trusted": true
   },
   "outputs": [],
   "source": [
    "def occurrencesValeurListeDeListes(L:list[int],v:int)->int:\n",
    "    \"\"\"prend en argument une liste de listes et une valeur v et\n",
    "    renvoie le nombre de fois qu'apparait la valeur v.\"\"\"\n",
    "    a=0\n",
    "    for ele in L:\n",
    "        a+=ele.count(v)\n",
    "    return a\n",
    "        \n",
    "    "
   ]
  },
  {
   "cell_type": "code",
   "execution_count": 50,
   "metadata": {
    "trusted": true
   },
   "outputs": [
    {
     "name": "stdout",
     "output_type": "stream",
     "text": [
      "4\n",
      "6\n"
     ]
    }
   ],
   "source": [
    "# test de la fonction\n",
    "print(occurrencesValeurListeDeListes([ [ 5, 4, 1],[ 3, 5, 5],[ 8, 7, 5] ],5))\n",
    "print(occurrencesValeurListeDeListes([ [ 5, 4, 1],[ 3, 5, 5],[ 3, 8, 7, 5],[ 2, 5, 5] ],5))"
   ]
  },
  {
   "cell_type": "markdown",
   "metadata": {},
   "source": [
    "## Exercice 10 **\n",
    "Ecrire une fonction `remplace` qui prend en argument une liste de listes et deux valeurs `v` et `w` et qui modifie la liste de listes en remplaçant chaque valeur `v` par la valeur `w`. Cette fonction ne renvoie rien.\n",
    "\n",
    "Exemple:\n",
    "```python\n",
    ">>>L = [ [ 5, 4, 1],\n",
    "         [ 3, 5, 5],\n",
    "         [ 8, 7, 5] ]\n",
    ">>>remplace(L,5,6)\n",
    "[ [ 6, 4, 1],[ 3, 6, 6],[ 8, 7, 6] ]\n",
    "```"
   ]
  },
  {
   "cell_type": "code",
   "execution_count": 69,
   "metadata": {
    "trusted": false
   },
   "outputs": [],
   "source": [
    "def remplace(L:list,v:int,w:int)->list[list[int]]:\n",
    "    \"\"\"prend en argument une liste de listes et deux valeurs v et w \n",
    "    et modifie la liste de listes en remplaçant chaque valeur v par la valeur w\"\"\"\n",
    "    for ele in L:\n",
    "        for i in range(len(ele)):\n",
    "            if ele[i]==v:\n",
    "                ele[i]=w"
   ]
  },
  {
   "cell_type": "code",
   "execution_count": 71,
   "metadata": {
    "trusted": false
   },
   "outputs": [
    {
     "name": "stdout",
     "output_type": "stream",
     "text": [
      "[[6, 4, 1], [3, 6, 6], [8, 7, 6]]\n"
     ]
    }
   ],
   "source": [
    "# test de la fonction\n",
    "L = [ [ 5, 4, 1],[ 3, 5, 5],[ 8, 7, 5] ]\n",
    "remplace(L,5,6)\n",
    "print(L)"
   ]
  },
  {
   "cell_type": "code",
   "execution_count": null,
   "metadata": {
    "trusted": false
   },
   "outputs": [],
   "source": [
    "# test de la fonction\n"
   ]
  },
  {
   "cell_type": "markdown",
   "metadata": {},
   "source": [
    "## Exercice 11 **\n",
    "Ecrire une fonction `tableMultiplication` qui prend en argument une liste d'entiers positifs `entiers` et qui renvoie la liste de listes des tables de multplications des entiers de `entiers`.\n",
    "\n",
    "Exemple : \n",
    "\n",
    "``` python\n",
    ">>>tableMultiplication([5,9])\n",
    "[ [0, 5, 10, 15, 20, 25, 30, 35, 40, 45, 50], [0, 9, 18, 27, 36, 45, 54, 63, 72, 81, 90] ]\n",
    "```"
   ]
  },
  {
   "cell_type": "code",
   "execution_count": 51,
   "metadata": {
    "trusted": true
   },
   "outputs": [],
   "source": [
    "def tableMultiplication(entiers:list)->list:\n",
    "    \"\"\"prend en argument une liste d'entiers positifs entiers \n",
    "    et renvoie la liste de listes des tables de multplications des entiers de entiers\"\"\"\n",
    "    L1=[]\n",
    "    for ele in entiers:\n",
    "        L0=[]\n",
    "        for i in range(11):\n",
    "            L0.append(ele*i)\n",
    "        L1.append(L0)\n",
    "    return L1"
   ]
  },
  {
   "cell_type": "code",
   "execution_count": 52,
   "metadata": {
    "trusted": true
   },
   "outputs": [
    {
     "data": {
      "text/plain": [
       "[[0, 5, 10, 15, 20, 25, 30, 35, 40, 45, 50], [0, 9, 18, 27, 36, 45, 54, 63, 72, 81, 90]]"
      ]
     },
     "execution_count": 52,
     "metadata": {},
     "output_type": "execute_result"
    }
   ],
   "source": [
    "# test de la fonction\n",
    "tableMultiplication([5,9])"
   ]
  },
  {
   "cell_type": "markdown",
   "metadata": {},
   "source": [
    "## Exercice 12 **\n",
    "Ecrire une fonction `renverse` qui prend en argument une liste de listes de **même longueur** et qui renvoie la liste de listes symétrique (les lignes deviennent les colonnes et les colonnes des lignes).\n",
    "Exemple : \n",
    "si `L` est la liste de listes\n",
    "``` python\n",
    "    L = [ [ 5, 4, 1, 5],\n",
    "          [ 3, 2, 5, 5],\n",
    "          [ 8, 7, 9, 5] ]\n",
    "```\n",
    "alors `renverse(L)` doit renvoyer la liste de listes\n",
    "``` python\n",
    "        [ [ 5, 3, 8],\n",
    "          [ 4, 2, 7],\n",
    "          [ 1, 5, 9]\n",
    "          [ 5, 5, 5]]\n",
    "```"
   ]
  },
  {
   "cell_type": "code",
   "execution_count": 53,
   "metadata": {
    "trusted": true
   },
   "outputs": [],
   "source": [
    "def renverse(L:list[list])->list[list]:\n",
    "    \"\"\"prend en argument une liste de listes de même longueur et renvoie la liste de listes symétrique\"\"\"\n",
    "    L1=[]\n",
    "    for i0 in range(len(L[0])):\n",
    "        L0=[]\n",
    "        for i1 in range(len(L)):\n",
    "            L0.append(L[i1][i0])\n",
    "        L1.append(L0)\n",
    "    return L1"
   ]
  },
  {
   "cell_type": "code",
   "execution_count": 54,
   "metadata": {
    "trusted": true
   },
   "outputs": [
    {
     "data": {
      "text/plain": [
       "[[5, 3, 8], [4, 2, 7], [1, 5, 9], [5, 5, 5]]"
      ]
     },
     "execution_count": 54,
     "metadata": {},
     "output_type": "execute_result"
    }
   ],
   "source": [
    "# test de la fonction\n",
    "renverse([ [ 5, 4, 1, 5],[ 3, 2, 5, 5],[ 8, 7, 9, 5] ])"
   ]
  },
  {
   "cell_type": "markdown",
   "metadata": {},
   "source": [
    "## Exercice bonus ***\n",
    "Ecrire une fonction `estUnMiniSudoku` qui prend en argument une liste de listes et qui renvoie `True` si c'est une liste de listes de taille 3x3 (donc 3 lignes, 3 colonnes) et que les 9 valeurs soient les valeurs 1, 2, 3, 4, 5, 6, 7, 8, 9 (dans un ordre quelconque), et `False` sinon.\n",
    "Exemple : \n",
    "- Si `L` est la liste de listes\n",
    "``` python\n",
    "    L = [ [ 5, 4, 1],\n",
    "          [ 3, 2, 5],\n",
    "          [ 8, 7, 9] ]\n",
    "```\n",
    "alors `estUnMiniSudoku(L)` doit renvoyer `True`\n",
    "- Si `L` est l'une des deux listes de listes suivantes\n",
    "``` python\n",
    "    L = [ [ 5, 4, 1],\n",
    "          [ 3, 2, 5],\n",
    "          [ 8, 7, 8] ]\n",
    "```\n",
    "ou\n",
    "``` python\n",
    "    L = [ [ 5, 4, 1],\n",
    "          [ 3, 2, 5] ]\n",
    "```\n",
    "alors `estUnMiniSudoku(L)` doit renvoyer `False`"
   ]
  },
  {
   "cell_type": "code",
   "execution_count": 62,
   "metadata": {
    "trusted": true
   },
   "outputs": [],
   "source": [
    "def estUnMiniSudoku(L:list[list])->bool:\n",
    "    \"\"\"prend en argument une liste de listes et\n",
    "    qui renvoie True si c'est une liste de listes de taille 3x3 \n",
    "    et que les 9 valeurs soient les valeurs 1, 2, 3, 4, 5, 6, 7, 8, 9 et False sinon\"\"\"\n",
    "    nb=[1, 2, 3, 4, 5, 6, 7, 8, 9]\n",
    "    if len(L)!=3:\n",
    "        return False\n",
    "        for ele in L:\n",
    "            if len(ele)!=3:\n",
    "                return False\n",
    "    for i1 in L:\n",
    "        for i2 in i1:\n",
    "            if i2 not in nb:\n",
    "                return False\n",
    "            else:\n",
    "                nb.remove(i2)\n",
    "    return True"
   ]
  },
  {
   "cell_type": "code",
   "execution_count": 63,
   "metadata": {
    "trusted": true
   },
   "outputs": [
    {
     "name": "stdout",
     "output_type": "stream",
     "text": [
      "True\n",
      "False\n",
      "False\n",
      "False\n",
      "False\n",
      "False\n"
     ]
    }
   ],
   "source": [
    "# test de la fonction\n",
    "print(estUnMiniSudoku([ [ 8, 7, 1],[ 3, 5, 9],[ 6, 2, 4] ]))\n",
    "print(estUnMiniSudoku([ [ 5, 4, 1],[ 3, 2, 5],[ 8, 7, 9] ]))\n",
    "print(estUnMiniSudoku([ [ 5, 4, 1],[ 3, 2, 5],[ 8, 7, 8] ]))\n",
    "print(estUnMiniSudoku([ [ 5, 4, 1],[ 3, 2, 5] ]))\n",
    "print(estUnMiniSudoku([ [ \"a\", \"z\", \"e\"],[ \"r\", \"t\", \"y\"],[ \"u\", \"i\", \"o\"] ]))\n",
    "print(estUnMiniSudoku([ [ 55, 44, 11],[ 33, 22, 55],[ 88, 77, 99] ]))\n"
   ]
  },
  {
   "cell_type": "markdown",
   "metadata": {},
   "source": [
    "## Mini projet bonus ****\n",
    "Ecrire une fonction `estUnSudoku` qui prend en argument une liste de listes et qui renvoie `True` si c'est une liste de listes de taille 9x9 (donc 9 lignes, 9 colonnes) et que les valeurs forment un sudoku et `False` sinon.\n",
    "Si besoin, voir les régles du <a href='https://sudoku.com/fr/comment-jouer/regles-de-sudoku-pour-les-debutants-complets/'>sudoku</a>"
   ]
  },
  {
   "cell_type": "code",
   "execution_count": 64,
   "metadata": {
    "trusted": true
   },
   "outputs": [
    {
     "name": "stdout",
     "output_type": "stream",
     "text": [
      "True\n",
      "True\n",
      "True\n"
     ]
    }
   ],
   "source": [
    "def extraction(L:list[list],i0,j0)->list[list]:\n",
    "    \"\"\"Renvoie la sous liste de liste de taille 3x3 dont le premier élément est à la ligne i0 et à la colonne j0. \n",
    "       Sera utilisée par la fonction 'estUnSudoku'. \"\"\"\n",
    "    if i0 > 6 or j0 > 6:\n",
    "        return None\n",
    "    res = []\n",
    "    for i in range(3):\n",
    "        row = []\n",
    "        for j in range(3):\n",
    "            row.append(L[i+i0][j+j0])\n",
    "        res.append(row)\n",
    "    return res\n",
    "\n",
    "# sudoku n'est PAS un sudoku car la colonne 8 (en partant de 1) contient deux fois la valeur 3 (lignes 6 et 7 en partant de 1)\n",
    "sudoku = [\n",
    "    [8, 7, 1, 3, 5, 9, 6, 2, 4],\n",
    "    [6, 9, 5, 2, 4, 1, 3, 7, 8],\n",
    "    [3, 4, 2, 7, 8, 6, 5, 9, 1],\n",
    "    [2, 4, 3, 9, 8, 5, 1, 6, 7],\n",
    "    [7, 5, 6, 4, 1, 3, 8, 2, 9],\n",
    "    [9, 1, 8, 6, 2, 7, 4, 3, 5],\n",
    "    [7, 9, 6, 5, 1, 2, 4, 3, 8],\n",
    "    [1, 8, 4, 9, 3, 7, 5, 6, 2],\n",
    "    [2, 5, 3, 8, 6, 4, 1, 7, 9]\n",
    "]\n",
    "\n",
    "print(extraction(sudoku, 0, 0) == [[8, 7, 1], [6, 9, 5], [3, 4, 2]])\n",
    "print(extraction(sudoku, 3, 3) == [[9, 8, 5], [4, 1, 3], [6, 2, 7]])\n",
    "print(extraction(sudoku, 8, 8) == None)"
   ]
  },
  {
   "cell_type": "code",
   "execution_count": 65,
   "metadata": {
    "trusted": true
   },
   "outputs": [
    {
     "name": "stdout",
     "output_type": "stream",
     "text": [
      "[[8, 7, 1], [3, 5, 9], [6, 2, 4]]\n",
      "None\n"
     ]
    }
   ],
   "source": [
    "def LigneVersMiniSudoku(ligne: list[int])->list[list[int]]:\n",
    "    \"\"\"Transforme une liste de taille 9 en listes de listes de taille 3 x 3.\n",
    "       Sera utilisée par estUnSudoku.\"\"\"\n",
    "    if len(ligne) != 9:\n",
    "        return None\n",
    "    res=[]\n",
    "    for i in range(3):\n",
    "        row=[]\n",
    "        for j in range(3):\n",
    "            row.append(ligne[3*i+j])\n",
    "        res.append(row)\n",
    "    return res\n",
    "\n",
    "print(LigneVersMiniSudoku([8, 7, 1, 3, 5, 9, 6, 2, 4]))\n",
    "print(LigneVersMiniSudoku([]))"
   ]
  },
  {
   "cell_type": "code",
   "execution_count": 66,
   "metadata": {
    "trusted": true
   },
   "outputs": [],
   "source": [
    "def estUnSudoku(L:list[list]):\n",
    "    \"\"\"prend en argument une liste de listes et\n",
    "    renvoie True si c'est une liste de listes de taille 9x9 (donc 9 lignes, 9 colonnes)\n",
    "    et que les valeurs forment un sudoku et False sinon\"\"\"\n",
    "    if len(L)!=9:\n",
    "        return False\n",
    "    for ligne in L:\n",
    "        if len(ligne) != 9:\n",
    "            return False\n",
    "        if not estUnMiniSudoku(LigneVersMiniSudoku(ligne)):\n",
    "            return False\n",
    "    for ligne in renverse(L):\n",
    "        if not estUnMiniSudoku(LigneVersMiniSudoku(ligne)):\n",
    "            return False\n",
    "    coords=[(0,0), (0,3), (0,6), (3,0), (3,3), (3,6), (6,0), (6,3), (6,6)]\n",
    "    for coord in coords:\n",
    "        mini=extraction(L,coord[0], coord[1])\n",
    "        if not estUnMiniSudoku(mini):\n",
    "            return false\n",
    "    return True"
   ]
  },
  {
   "cell_type": "code",
   "execution_count": 69,
   "metadata": {
    "trusted": true
   },
   "outputs": [
    {
     "name": "stdout",
     "output_type": "stream",
     "text": [
      "False\n",
      "True\n",
      "False\n"
     ]
    }
   ],
   "source": [
    "# test de la fonction\n",
    "sudoku2 = [\n",
    "    [5, 3, 4, 6, 7, 8, 9, 1, 2],\n",
    "    [6, 7, 2, 1, 9, 5, 3, 4, 8],\n",
    "    [1, 9, 8, 3, 4, 2, 5, 6, 7],\n",
    "    [8, 5, 9, 7, 6, 1, 4, 2, 3],\n",
    "    [4, 2, 6, 8, 5, 3, 7, 9, 1],\n",
    "    [7, 1, 3, 9, 2, 4, 8, 5, 6],\n",
    "    [9, 6, 1, 5, 3, 7, 2, 8, 4],\n",
    "    [2, 8, 7, 4, 1, 9, 6, 3, 5],\n",
    "    [3, 4, 5, 2, 8, 6, 1, 7, 9]\n",
    "]\n",
    "sudoku3 = [\n",
    "    [5, 3, 4, 6, 7, 8, 9, 1, 2],\n",
    "    [6, 7, 2, 1, 9, 5, 3, 4, 8],\n",
    "    [1, 9, 8, 3, 4, 2, 5, 6, 7],\n",
    "    [8, 5, 9, 7, 6, 1, 4, 2, 3],\n",
    "    [4, 2, 6, 8, 5, 3, 7, 9, 1],\n",
    "    [7, 1, 3, 9, 2, 4, 8, 5, 6],\n",
    "    [9, 6, 1, 5, 3, 7, 2, 8, 4],\n",
    "    [2, 8, 7, 4, 1, 9, 6, 3, 5],\n",
    "]\n",
    "\n",
    "print(estUnSudoku(sudoku))\n",
    "print(estUnSudoku(sudoku2))\n",
    "print(estUnSudoku(sudoku3))"
   ]
  }
 ],
 "metadata": {
  "kernelspec": {
   "display_name": "Python 3",
   "language": "python",
   "name": "python3"
  },
  "language_info": {
   "codemirror_mode": {
    "name": "ipython",
    "version": 3
   },
   "file_extension": ".py",
   "mimetype": "text/x-python",
   "name": "python",
   "nbconvert_exporter": "python",
   "pygments_lexer": "ipython3",
   "version": "3.11.4"
  }
 },
 "nbformat": 4,
 "nbformat_minor": 2
}
