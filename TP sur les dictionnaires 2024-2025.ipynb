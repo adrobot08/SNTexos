{
 "cells": [
  {
   "cell_type": "markdown",
   "metadata": {},
   "source": [
    "TP durée : 4h à rendre aprés\n",
    "Mettre le nom des deux personnes du binome et le nom du TP à corriger"
   ]
  },
  {
   "cell_type": "markdown",
   "metadata": {},
   "source": [
    "Adrien.Rognier et Nicola.Pinto Ramos sur Adrien "
   ]
  },
  {
   "cell_type": "markdown",
   "metadata": {},
   "source": [
    "# Les Dictionnaires\n",
    "\n",
    "Le cours est aussi disponible sur https://www.math93.com/lycee/nsi-1ere/nsi-1ere.html \n",
    "\n",
    "\n",
    "\n",
    "# 1. Cours  et activités"
   ]
  },
  {
   "cell_type": "markdown",
   "metadata": {},
   "source": [
    "## Définition\n",
    "\n",
    "Un **dictionnaire** en python est une sorte de liste mais au lieu d'utiliser des index, on utilise des clés alphanumériques. \n",
    "\n",
    "L’ensemble des couples **clé – valeur** sont enregistrés sous la forme `clé:valeur` , l’ensemble de ces couples étant séparés par une virgule et placés entre deux accolades.\n",
    "\n",
    "Les clés peuvent être des entiers (int), des chaînes de caractères (str) et même des tuples (En fait presque n'importe quel type convient).\n",
    "\n",
    "Remarque: les types mutables ne peuvent pas etre des clef de dictionnaire comme les listes.\n",
    "\n",
    "Par exemple : "
   ]
  },
  {
   "cell_type": "code",
   "execution_count": 9,
   "metadata": {
    "trusted": false
   },
   "outputs": [
    {
     "name": "stdout",
     "output_type": "stream",
     "text": [
      "{'clé1': 'valeur1', 'clé2': 'valeur2'}\n"
     ]
    }
   ],
   "source": [
    "d={'clé1':'valeur1','clé2':'valeur2'}\n",
    "print(d)\n"
   ]
  },
  {
   "cell_type": "markdown",
   "metadata": {},
   "source": [
    "## Comment créer un dictionnaire python ? \n",
    "\n",
    "Pour **initialiser un dictionnaire** , on utile la syntaxe suivante qui va créer une variable de type dictionnaire, vide. "
   ]
  },
  {
   "cell_type": "code",
   "execution_count": 10,
   "metadata": {
    "trusted": false
   },
   "outputs": [],
   "source": [
    "a=dict()\n",
    "b={}"
   ]
  },
  {
   "cell_type": "markdown",
   "metadata": {},
   "source": [
    "On peut vérifier le type de la variable créée."
   ]
  },
  {
   "cell_type": "code",
   "execution_count": 11,
   "metadata": {
    "trusted": false
   },
   "outputs": [
    {
     "name": "stdout",
     "output_type": "stream",
     "text": [
      "<class 'dict'>\n",
      "<class 'dict'>\n",
      "{'Marie': 62111111, 'Moussa': 62111122, 'Chérine': 62111111}\n"
     ]
    }
   ],
   "source": [
    "print(type(a))\n",
    "print(type(b))\n",
    "# On peut par exemple entrer des noms en clés et les numéros de téléphone en valeur. \n",
    "a={'Marie': 62111111 ,'Moussa': 62111122,'Chérine': 62111111}\n",
    "print(a)"
   ]
  },
  {
   "cell_type": "markdown",
   "metadata": {},
   "source": [
    "## Comment ajouter des valeurs dans un dictionnaire python ?  \n",
    "\n",
    "Pour **ajouter des valeurs** à un dictionnaire  il faut indiquer une **clé** ainsi qu'une **valeur** sous la forme **nom_dico['clé']='valeur'**.\n",
    "\n",
    "On peut par exemple entrer des noms en clés et les numéros de téléphone en valeur. \n",
    "\n",
    "\n",
    "*Remarque : un entier ne commence pas par 0 en python, si on veurt stocker la valeur complète 0611223344 il faudra passer les numéros en variables str.*"
   ]
  },
  {
   "cell_type": "code",
   "execution_count": 12,
   "metadata": {
    "trusted": false
   },
   "outputs": [
    {
     "name": "stdout",
     "output_type": "stream",
     "text": [
      "{'Marie': 62111111, 'Moussa': 62111122, 'Chérine': 62111111, 'Pierre': 611223344, 'Franck': 611223599, 'Yannis': 611223355}\n"
     ]
    }
   ],
   "source": [
    "a['Pierre']=611223344\n",
    "a['Franck']=611223599\n",
    "a['Yannis']=611223355\n",
    "print(a)"
   ]
  },
  {
   "cell_type": "markdown",
   "metadata": {},
   "source": [
    "- La **longueur d'un dictionnaire** est le nombre de clés. On l'obtient avec la fonction `len(nom_dico)`.\n",
    "- L'ordre dans lequel apparaissent les paires clé-valeur dans le dictionnaire n’a pas d’importance, car on accède pas aux éléments d’un dictionnaire par un index, mais par une clé, qui n’est pas nécessairement un nombre."
   ]
  },
  {
   "cell_type": "code",
   "execution_count": 13,
   "metadata": {
    "trusted": false
   },
   "outputs": [
    {
     "data": {
      "text/plain": [
       "6"
      ]
     },
     "execution_count": 13,
     "metadata": {},
     "output_type": "execute_result"
    }
   ],
   "source": [
    "len(a)"
   ]
  },
  {
   "cell_type": "markdown",
   "metadata": {},
   "source": [
    "## Un premier exercice "
   ]
  },
  {
   "cell_type": "markdown",
   "metadata": {},
   "source": [
    "### Exercice 1 : Question 1\n",
    "\n",
    " 1.a Créer un dictionnaire vide nommé *dico*. \n",
    " \n",
    " 1.b Ce dictionnaire comprendra en **clés** des mots en anglais et en **valeurs** une traduction possible en français.    \n",
    " \n",
    "     AJOUTER les clés-valeurs : 'house' : 'maison' , 'kitchen' : 'cuisine'    ,  'bunk beds' : 'lits superposés'  ,  'to abuse' : 'abuser'\n",
    " **Attention il faut ajouter au dictionnaire `dico` et pas créer le dictionnaire**\n",
    " \n",
    " 1.c Vérifier le résultat par un affichage du dictionnaire.\n",
    " \n",
    " 1.d Afficher sa longueur.\n"
   ]
  },
  {
   "cell_type": "code",
   "execution_count": 14,
   "metadata": {
    "trusted": false
   },
   "outputs": [
    {
     "name": "stdout",
     "output_type": "stream",
     "text": [
      "{'house': 'maison', 'kitchen': 'cuisine', 'bunk beds': 'lis superposés', 'to abuse': 'abuser'}\n",
      "4\n"
     ]
    }
   ],
   "source": [
    "#Ecrire le programme ici\n",
    "dico={}\n",
    "dico['house']='maison'\n",
    "dico['kitchen']='cuisine'\n",
    "dico['bunk beds']='lis superposés'\n",
    "dico['to abuse']='abuser'\n",
    "print(dico)\n",
    "print(len(dico))"
   ]
  },
  {
   "cell_type": "markdown",
   "metadata": {},
   "source": [
    "## Comment récupérer une valeur dans un dictionnaire python?\n",
    "\n",
    "Pour récupérer une valeur dans un dictionnaire :\n",
    ". \n",
    "\n",
    "\n",
    "\n",
    "\n",
    "  + la méthode directe : `nom_dico['clé']`\n",
    "  + Il y a une autre méthode mais je préfére que vous ne l'utilisiez pas. Elle n'est pas bonne pour débugguer"
   ]
  },
  {
   "cell_type": "code",
   "execution_count": 15,
   "metadata": {
    "trusted": false
   },
   "outputs": [
    {
     "data": {
      "text/plain": [
       "611223599"
      ]
     },
     "execution_count": 15,
     "metadata": {},
     "output_type": "execute_result"
    }
   ],
   "source": [
    "a['Franck']"
   ]
  },
  {
   "cell_type": "markdown",
   "metadata": {},
   "source": [
    "Faites de même avec votre dictionnaires dico.\n"
   ]
  },
  {
   "cell_type": "markdown",
   "metadata": {},
   "source": [
    "### Exercice 1 : Question 2\n",
    "Accéder aux valeurs par les clés et tester un appel d'une clé qui n'est pas dans votre dictionnaire.\n"
   ]
  },
  {
   "cell_type": "code",
   "execution_count": 16,
   "metadata": {
    "trusted": false
   },
   "outputs": [
    {
     "ename": "KeyError",
     "evalue": "'toto'",
     "output_type": "error",
     "traceback": [
      "\u001b[0;31m---------------------------------------------------------------------------\u001b[0m",
      "\u001b[0;31mKeyError\u001b[0m                                  Traceback (most recent call last)",
      "Cell \u001b[0;32mIn[16], line 2\u001b[0m\n\u001b[1;32m      1\u001b[0m \u001b[38;5;66;03m#Ecrire le programme ici\u001b[39;00m\n\u001b[0;32m----> 2\u001b[0m \u001b[38;5;28mprint\u001b[39m(\u001b[43ma\u001b[49m\u001b[43m[\u001b[49m\u001b[38;5;124;43m'\u001b[39;49m\u001b[38;5;124;43mtoto\u001b[39;49m\u001b[38;5;124;43m'\u001b[39;49m\u001b[43m]\u001b[49m)\n",
      "\u001b[0;31mKeyError\u001b[0m: 'toto'"
     ]
    }
   ],
   "source": [
    "#Ecrire le programme ici\n",
    "print(a['toto'])"
   ]
  },
  {
   "cell_type": "markdown",
   "metadata": {},
   "source": [
    "## Comment modifier une valeur dans un dictionnaire python?\n",
    "On peut bien sûre modifier la valeur d’une clé. "
   ]
  },
  {
   "cell_type": "code",
   "execution_count": null,
   "metadata": {
    "trusted": false
   },
   "outputs": [
    {
     "name": "stdout",
     "output_type": "stream",
     "text": [
      "{'Marie': 62111111, 'Moussa': 62111122, 'Chérine': 62111111, 'Pierre': 799887744, 'Franck': 611223599, 'Yannis': 611223355}\n"
     ]
    }
   ],
   "source": [
    "a['Pierre']=799887744\n",
    "print(a)"
   ]
  },
  {
   "cell_type": "markdown",
   "metadata": {},
   "source": [
    "On pourrait par exemple dans le dictionnaire dico précédent modifier la valeur de la clé `to abuse` par `insulter` ce qui est plus convenable."
   ]
  },
  {
   "cell_type": "markdown",
   "metadata": {
    "trusted": false
   },
   "source": [
    "### Exercice 1 : Question 3\n",
    " Modifier la valeur de la clé 'to abuse' par 'insulter'\n",
    "\n"
   ]
  },
  {
   "cell_type": "code",
   "execution_count": null,
   "metadata": {
    "trusted": false
   },
   "outputs": [
    {
     "name": "stdout",
     "output_type": "stream",
     "text": [
      "{'house': 'maison', 'kitchen': 'cuisine', 'bunk beds': 'lis superposés', 'to abuse': 'insulter'}\n"
     ]
    }
   ],
   "source": [
    "#Ecrire le programme ici\n",
    "dico['to abuse']='insulter'\n",
    "print(dico)"
   ]
  },
  {
   "cell_type": "markdown",
   "metadata": {},
   "source": [
    "## Comment supprimer une valeur dans un dictionnaire python?\n",
    "Pour supprimer un élément :\n",
    "\n",
    "   + on peut utiliser l’instruction intégrée `del` , \n",
    "   + ou la méthode `pop()`\n",
    "\n",
    "Par exemple, si on souhaite supprimer la paire 'Pierre' : '611223344', on peut exécuter l’instruction :\n",
    " *del a['Pierre']* ou *a.pop('Pierre')*\n",
    " "
   ]
  },
  {
   "cell_type": "code",
   "execution_count": null,
   "metadata": {
    "trusted": false
   },
   "outputs": [
    {
     "name": "stdout",
     "output_type": "stream",
     "text": [
      "avant {'Marie': 62111111, 'Moussa': 62111122, 'Chérine': 62111111, 'Pierre': 799887744, 'Franck': 611223599, 'Yannis': 611223355}\n",
      "après le del  {'Marie': 62111111, 'Moussa': 62111122, 'Chérine': 62111111, 'Franck': 611223599, 'Yannis': 611223355}\n"
     ]
    },
    {
     "data": {
      "text/plain": [
       "611223355"
      ]
     },
     "execution_count": 154,
     "metadata": {},
     "output_type": "execute_result"
    }
   ],
   "source": [
    "print('avant', a)\n",
    "del a['Pierre']\n",
    "print('après le del ',a)\n",
    "a.pop('Yannis')\n",
    "#print('après le pop',a)"
   ]
  },
  {
   "cell_type": "markdown",
   "metadata": {},
   "source": [
    "## Exercice 1 : Question 4\n",
    " Supprimer une entrée de votre dictionnaire\n"
   ]
  },
  {
   "cell_type": "code",
   "execution_count": null,
   "metadata": {
    "trusted": false
   },
   "outputs": [
    {
     "name": "stdout",
     "output_type": "stream",
     "text": [
      "{'house': 'maison', 'bunk beds': 'lis superposés', 'to abuse': 'insulter'}\n"
     ]
    }
   ],
   "source": [
    "#Ecrire le code ici\n",
    "del dico['kitchen']\n",
    "print(dico)"
   ]
  },
  {
   "cell_type": "markdown",
   "metadata": {},
   "source": [
    "##  Comment parcourir les clés ou les valeurs dans un dictionnaire python?\n",
    "###  Méthode `keys()`\n",
    "La méthode `keys()` renvoie une séquence contenant les clés du dictionnaire. Si nécessaire, cette séquence peut être convertie en une liste à l’aide de la fonction intégrée `list()` ou en tuple à l’aide de la fonction intégrée `tuple()`."
   ]
  },
  {
   "cell_type": "code",
   "execution_count": null,
   "metadata": {
    "trusted": false
   },
   "outputs": [
    {
     "data": {
      "text/plain": [
       "dict_keys(['Marie', 'Moussa', 'Chérine', 'Franck'])"
      ]
     },
     "execution_count": 156,
     "metadata": {},
     "output_type": "execute_result"
    }
   ],
   "source": [
    "a.keys()"
   ]
  },
  {
   "cell_type": "code",
   "execution_count": null,
   "metadata": {
    "trusted": false
   },
   "outputs": [
    {
     "data": {
      "text/plain": [
       "['Marie', 'Moussa', 'Chérine', 'Franck']"
      ]
     },
     "execution_count": 157,
     "metadata": {},
     "output_type": "execute_result"
    }
   ],
   "source": [
    "list(a.keys())"
   ]
  },
  {
   "cell_type": "markdown",
   "metadata": {},
   "source": [
    "###   Méthode `values()`\n",
    "La méthode `values()` renvoie une séquence contenant les valeurs mémorisées dans le dictionnaire. \n",
    "\n",
    "On peut, comme pour les clés, utiliser les méthodes `list()` ou `tuple()` pour transformer ces séquences en listes ou en tuples.\n"
   ]
  },
  {
   "cell_type": "code",
   "execution_count": null,
   "metadata": {
    "trusted": false
   },
   "outputs": [
    {
     "data": {
      "text/plain": [
       "dict_values([62111111, 62111122, 62111111, 611223599])"
      ]
     },
     "execution_count": 158,
     "metadata": {},
     "output_type": "execute_result"
    }
   ],
   "source": [
    "a.values()"
   ]
  },
  {
   "cell_type": "markdown",
   "metadata": {},
   "source": [
    "###  Méthode `items()`\n",
    "La méthode `items()` retourne une séquence de tuples, chaque tuple contenant deux éléments, la clé et la valeur correspondante. Par exemple  :"
   ]
  },
  {
   "cell_type": "code",
   "execution_count": null,
   "metadata": {
    "trusted": false
   },
   "outputs": [
    {
     "data": {
      "text/plain": [
       "dict_items([('Marie', 62111111), ('Moussa', 62111122), ('Chérine', 62111111), ('Franck', 611223599)])"
      ]
     },
     "execution_count": 159,
     "metadata": {},
     "output_type": "execute_result"
    }
   ],
   "source": [
    "a.items()"
   ]
  },
  {
   "cell_type": "markdown",
   "metadata": {},
   "source": [
    "###  Parcours par une boucle\n",
    "On peut aussi parcourir le dictionnaire par une boucle en utilisant les différentes méthodes."
   ]
  },
  {
   "cell_type": "code",
   "execution_count": null,
   "metadata": {
    "trusted": false
   },
   "outputs": [
    {
     "name": "stdout",
     "output_type": "stream",
     "text": [
      "La clef  Marie est associée à la valeur 62111111\n",
      "La clef  Moussa est associée à la valeur 62111122\n",
      "La clef  Chérine est associée à la valeur 62111111\n",
      "La clef  Franck est associée à la valeur 611223599\n"
     ]
    }
   ],
   "source": [
    "for clef in a:\n",
    "    print(\"La clef \", clef, \"est associée à la valeur\", a[clef])"
   ]
  },
  {
   "cell_type": "code",
   "execution_count": null,
   "metadata": {
    "trusted": false
   },
   "outputs": [
    {
     "name": "stdout",
     "output_type": "stream",
     "text": [
      "Les clés du dictionnaire sont  Marie\n",
      "Les clés du dictionnaire sont  Moussa\n",
      "Les clés du dictionnaire sont  Chérine\n",
      "Les clés du dictionnaire sont  Franck\n"
     ]
    }
   ],
   "source": [
    "for clef in a.keys():\n",
    "    print(\"Les clés du dictionnaire sont \", clef)"
   ]
  },
  {
   "cell_type": "code",
   "execution_count": null,
   "metadata": {
    "trusted": false
   },
   "outputs": [
    {
     "name": "stdout",
     "output_type": "stream",
     "text": [
      "Les valeurs du dictionnaire sont  62111111\n",
      "Les valeurs du dictionnaire sont  62111122\n",
      "Les valeurs du dictionnaire sont  62111111\n",
      "Les valeurs du dictionnaire sont  611223599\n"
     ]
    }
   ],
   "source": [
    "for valeur in a.values():\n",
    "    print(\"Les valeurs du dictionnaire sont \", valeur)"
   ]
  },
  {
   "cell_type": "markdown",
   "metadata": {},
   "source": [
    "## Exercice 1 : Question 5\n",
    "Refaire les 7 méthodes d'affichages de clefs et de valeurs présentées ci-dessus avec votre dictionnaire `dico`\n",
    "\n"
   ]
  },
  {
   "cell_type": "code",
   "execution_count": null,
   "metadata": {
    "trusted": false
   },
   "outputs": [
    {
     "name": "stdout",
     "output_type": "stream",
     "text": [
      "house : maison\n",
      "bunk beds : lis superposés\n",
      "to abuse : insulter\n"
     ]
    }
   ],
   "source": [
    "#Ecrire le code ici \n",
    "for key,value in dico.items():\n",
    "    print(key, \":\", value)"
   ]
  },
  {
   "cell_type": "markdown",
   "metadata": {},
   "source": [
    "##  Comment  copier un dictionnaire : méthode copy()\n",
    "Supposons que l’on souhaite effectuer une copie du dictionnaire a précédent sous le nom a2.  \n",
    "\n"
   ]
  },
  {
   "cell_type": "code",
   "execution_count": null,
   "metadata": {
    "trusted": false
   },
   "outputs": [
    {
     "name": "stdout",
     "output_type": "stream",
     "text": [
      "{'Marie': 62111111, 'Moussa': 62111122, 'Chérine': 62111111, 'Franck': 611223599}\n",
      "{'Marie': 62111111, 'Moussa': 62111122, 'Chérine': 62111111, 'Franck': 611223599}\n"
     ]
    }
   ],
   "source": [
    "print(a)\n",
    "a2=a\n",
    "print(a2)"
   ]
  },
  {
   "cell_type": "code",
   "execution_count": null,
   "metadata": {
    "trusted": false
   },
   "outputs": [
    {
     "name": "stdout",
     "output_type": "stream",
     "text": [
      "a=  {'Marie': 62111111, 'Moussa': 62111122, 'Chérine': 62111111, 'Franck': 611223599, 'Lina': 611111111}\n",
      "a2=  {'Marie': 62111111, 'Moussa': 62111122, 'Chérine': 62111111, 'Franck': 611223599, 'Lina': 611111111}\n"
     ]
    }
   ],
   "source": [
    "# On va modifier le dictionnaire a2 copié, on remarque qu'alors le dictionaire a aussi est modifié.\n",
    "a2['Lina']=611111111\n",
    "print('a= ',a)\n",
    "print('a2= ',a2)"
   ]
  },
  {
   "cell_type": "markdown",
   "metadata": {},
   "source": [
    "On remarque que les deux dictionnaires ont été modifiés. Cela montre qu’il n’y a en fait qu’un seul objet et que `dico` et `dico_2` sont en fait des références vers le même objet.\n",
    "Ces instructions ne créent pas une copie du dictionnaire dico. Elles se contentent de créer ce que l’on appelle un alias, c’est-à-dire un autre nom pour désigner le même objet.\n",
    "\n",
    "Pour obtenir une vraie copie d’un dictionnaire, il faut utiliser, comme avec les listes, la méthode `copy()` ou la fonction `dict()` :"
   ]
  },
  {
   "cell_type": "code",
   "execution_count": null,
   "metadata": {
    "trusted": false
   },
   "outputs": [
    {
     "name": "stdout",
     "output_type": "stream",
     "text": [
      "a=  {'Marie': 62111111, 'Moussa': 62111122, 'Chérine': 62111111, 'Franck': 611223599, 'Lina': 611111111}\n",
      "a3=  {'Marie': 62111111, 'Moussa': 62111122, 'Chérine': 62111111, 'Franck': 611223599, 'Lina': 611111111, 'Pablo': 622222222}\n",
      "{'Marie': 62111111, 'Moussa': 62111122, 'Chérine': 62111111, 'Franck': 611223599, 'Lina': 611111111}\n",
      "{'Marie': 62111111, 'Moussa': 62111122, 'Chérine': 62111111, 'Franck': 611223599, 'Lina': 611111111} {'Marie': 62111111, 'Moussa': 62111122, 'Chérine': 62111111, 'Franck': 611223599, 'Lina': 611111111, 'Pablo': 622222222} {'Marie': 62111111, 'Moussa': 62111122, 'Chérine': 62111111, 'Franck': 611223599, 'Lina': 611111111, 'jeje': 545455454}\n"
     ]
    }
   ],
   "source": [
    "a3=a.copy()\n",
    "a3['Pablo']=622222222\n",
    "print('a= ',a)\n",
    "print('a3= ',a3)\n",
    "a4=dict(a)\n",
    "print(a4)\n",
    "a4['jeje']=545455454\n",
    "print(a,a3,a4)"
   ]
  },
  {
   "cell_type": "markdown",
   "metadata": {},
   "source": [
    "## Exercice 1 : Question 6\n",
    " Copier votre dictionnaire `dico` dans un autre dictionnaire `dico2` et modifier des valeurs. \n",
    " Vérifier alors les remarques du cours."
   ]
  },
  {
   "cell_type": "code",
   "execution_count": null,
   "metadata": {
    "trusted": false
   },
   "outputs": [
    {
     "name": "stdout",
     "output_type": "stream",
     "text": [
      "{'house': 'maison', 'bunk beds': 'lis superposés', 'to abuse': 'insulter', 'home': 'maison aussi'}\n"
     ]
    }
   ],
   "source": [
    "#Ecrire le code ici \n",
    "dico2 = dico.copy()\n",
    "dico2['home']='maison aussi'\n",
    "print(dico2)"
   ]
  },
  {
   "cell_type": "markdown",
   "metadata": {},
   "source": [
    "## Création d'un dictionnaire par compréhension\n",
    "On peut aussi construire un dictionnaire par compréhension, comme avec les listes."
   ]
  },
  {
   "cell_type": "code",
   "execution_count": null,
   "metadata": {
    "trusted": false
   },
   "outputs": [
    {
     "name": "stdout",
     "output_type": "stream",
     "text": [
      "{0: 0, 1: 1, 2: 4, 3: 9, 4: 16, 5: 25, 6: 36, 7: 49, 8: 64, 9: 81}\n"
     ]
    }
   ],
   "source": [
    "#Voici le dictionnaire des 10 premiers entiers associés à leur carré.\n",
    "comprehension={x: x*x for x in range(10)}\n",
    "print(comprehension)"
   ]
  },
  {
   "cell_type": "markdown",
   "metadata": {},
   "source": [
    "##  Mettre à jour un dictionnaire avec un autre dictionnaire : `update()`\n",
    "\n",
    "Il est possible de mettre à jour un dictionnaire avec un autre dictionnaire avec la méthode `update()`:\n"
   ]
  },
  {
   "cell_type": "code",
   "execution_count": null,
   "metadata": {
    "trusted": false
   },
   "outputs": [
    {
     "data": {
      "text/plain": [
       "{'apples': 1, 'oranges': 3, 'pears': 4, 'grapes': 5, 'lemons': 6}"
      ]
     },
     "execution_count": 169,
     "metadata": {},
     "output_type": "execute_result"
    }
   ],
   "source": [
    "d = {'apples': 1, 'oranges': 3, 'pears': 2}\n",
    "ud = {'pears': 4, 'grapes': 5, 'lemons': 6}\n",
    "d.update(ud)\n",
    "d\n"
   ]
  },
  {
   "cell_type": "markdown",
   "metadata": {},
   "source": [
    "# Résumé des notions abordées\n",
    "\n",
    "- Un dictionnaire est un objet conteneur associant des clés à des valeurs.\n",
    "- Pour créer un dictionnaire, on utilise la syntaxe :\n",
    "    - dictionnaire = `{ cle1:valeur1, cle2:valeur2,..., cleN:valeurN }`\n",
    "- Pour récupérer une valeur dans un dictionnaire python.\n",
    "\n",
    "    - la méthode directe : `nom_dico[clé]`\n",
    "- On peut ajouter ou remplacer un élément dans un dictionnaire:\n",
    "    - `dictionnaire[cle] = valeur`\n",
    "- On peut supprimer une clé (et sa valeur correspondante) d’un dictionnaire en utilisant:\n",
    "    - le mot-clé `del` par exemple `del dico[cle]`\n",
    "    - la méthode `pop()` par exemple `dico.pop(cle)`\n",
    "- On peut parcourir un dictionnaire grâce aux méthodes:\n",
    "    - `keys()` : parcourt les clés\n",
    "    - `values()` : parcourt les valeurs\n",
    "    - `items()` : parcourt les couples clé-valeur\n",
    "- On peut concaténer deux dictionnaires grâce à la méthode update(): \n",
    "    - `dico1.update(dico2)`"
   ]
  },
  {
   "cell_type": "code",
   "execution_count": null,
   "metadata": {
    "trusted": false
   },
   "outputs": [
    {
     "name": "stdout",
     "output_type": "stream",
     "text": [
      "<class 'dict'>\n"
     ]
    },
    {
     "data": {
      "text/plain": [
       "['__add__', '__class__', '__contains__', '__delattr__', '__dir__', '__doc__', '__eq__', '__format__', '__ge__', '__getattribute__', '__getitem__', '__getnewargs__', '__getstate__', '__gt__', '__hash__', '__init__', '__init_subclass__', '__iter__', '__le__', '__len__', '__lt__', '__mod__', '__mul__', '__ne__', '__new__', '__reduce__', '__reduce_ex__', '__repr__', '__rmod__', '__rmul__', '__setattr__', '__sizeof__', '__str__', '__subclasshook__', 'capitalize', 'casefold', 'center', 'count', 'encode', 'endswith', 'expandtabs', 'find', 'format', 'format_map', 'index', 'isalnum', 'isalpha', 'isascii', 'isdecimal', 'isdigit', 'isidentifier', 'islower', 'isnumeric', 'isprintable', 'isspace', 'istitle', 'isupper', 'join', 'ljust', 'lower', 'lstrip', 'maketrans', 'partition', 'removeprefix', 'removesuffix', 'replace', 'rfind', 'rindex', 'rjust', 'rpartition', 'rsplit', 'rstrip', 'split', 'splitlines', 'startswith', 'strip', 'swapcase', 'title', 'translate', 'upper', 'zfill']"
      ]
     },
     "execution_count": 170,
     "metadata": {},
     "output_type": "execute_result"
    }
   ],
   "source": [
    "# Pour accéder à toutes les fonctions et méthodes liées à la classe dictionnaire (la notion de classe sera vue plus tard)\n",
    "# il suffit de taper la commande dir(nom_dico) :\n",
    "\n",
    "#dir(a)\n",
    "print(type(a))\n",
    "s='toto'\n",
    "dir(s)"
   ]
  },
  {
   "cell_type": "markdown",
   "metadata": {},
   "source": [
    "Méthodes | Actions\n",
    "--- | --- \n",
    "clear() |\tSupprime tous les éléments du dictionnaire\n",
    "copy()\t|Renvoie une copie du dictionnaire\n",
    "fromkeys()|Renvoie un dictionnaire avec les clés et valeurs spécifiées\n",
    "get()\t|Renvoie la valeur de la clé spécifiée\n",
    "items()\t|Retourne un objet qui affiche une liste des paires de tuples (clé, valeur) du dictionnaire\n",
    "keys()\t|Renvoie une liste contenant les clés du dictionnaire\n",
    "pop()\t|Supprime l'élément de la clé spécifiée et renvoie la valeur\n",
    "popitem()|\tSupprime le dernier élément et renvoie la clef et la valeur dans un tuple\n",
    "setdefault()\t|Renvoie la valeur de la clé spécifiée. Si la clé n'existe pas : insère la clé, avec la valeur spécifiée.\n",
    "update()\t|Mise à jour du dictionnaire avec les paires clé-valeur spécifiées\n",
    "values()\t|Renvoie une liste de toutes les valeurs du dictionnaire"
   ]
  },
  {
   "cell_type": "markdown",
   "metadata": {},
   "source": [
    "#  TD - Les dictionnaires sous Python"
   ]
  },
  {
   "cell_type": "markdown",
   "metadata": {},
   "source": [
    "## Exercice 2\n",
    "Voici un dictionnaire qui permet de coder les 26 lettres de l'alphabet, l'espace et l'apostrophe '. "
   ]
  },
  {
   "cell_type": "code",
   "execution_count": null,
   "metadata": {
    "trusted": true
   },
   "outputs": [],
   "source": [
    "codage={'a':111,'b':121,'c':211,'d':311,'e':151,'f':411,'g':113,'h':11,'i':21,'j':71,'k':19,'l':81,'m':100,'n':9,'o':1,'p':8,'q':1234,'r':1119,'s':4111,'t':5111,'u':555,'v':321,'w':0,'x':20,'y':30,'z':40,' ':951,\"'\":753}"
   ]
  },
  {
   "cell_type": "markdown",
   "metadata": {},
   "source": [
    "A l'aide de ce dictionnaire, on veut coder le message suivant : 'bonjour'\n",
    "\n",
    "1. Ecrire une fonction `f` qui va renvoyer le mot codé sous forme d'une liste d'entiers.\n",
    "\n",
    "Par exemple on devra avoir : \n",
    "\n",
    "``` python\n",
    "print(f('bonjour'))\n",
    "[121, 1, 9, 71, 1, 555, 1119]\n",
    "```"
   ]
  },
  {
   "cell_type": "code",
   "execution_count": null,
   "metadata": {
    "trusted": true
   },
   "outputs": [],
   "source": [
    "# Exercice 2 : question 1 (2+3 pts)\n",
    "# ------------------------ \n",
    "def f(mot:str)->list[int]:\n",
    "    \"\"\"Explain:parcours chaque lettre et renvois dans une liste l'ensemble de leur code ascii\"\"\"\n",
    "    L_cod=[]\n",
    "    for ele in mot:\n",
    "        L_cod.append(codage[ele])\n",
    "    return L_cod\n"
   ]
  },
  {
   "cell_type": "markdown",
   "metadata": {},
   "source": [
    "# Pour les tests\n",
    "Vous devez créer des mots aléatoires. Le sens n'a pas beaucoup d'importance."
   ]
  },
  {
   "cell_type": "code",
   "execution_count": null,
   "metadata": {
    "trusted": true
   },
   "outputs": [
    {
     "name": "stdout",
     "output_type": "stream",
     "text": [
      "Test \"bonjour\" OK\n",
      "[311, 21, 211, 5111, 21, 951, 9, 9, 111, 21, 1119, 151]\n",
      "[40]\n",
      "[1119, 951, 1119, 151]\n",
      "[321, 21, 1, 951, 151, 5111]\n",
      "[411, 81, 555, 21, 1, 151, 411, 753, 71, 1119, 19, 81, 555, 11, 30]\n"
     ]
    }
   ],
   "source": [
    "#TESTS , ATTENTION LA QUALITE ET LE NOMBRE DE TESTS EST EVALUES (3pts)\n",
    "test_bonjour = f('bonjour') == [121, 1, 9, 71, 1, 555, 1119]\n",
    "if test_bonjour:\n",
    "    print('Test \"bonjour\" OK')\n",
    "else:\n",
    "    print('Test \"bonjour\" KO')\n",
    "print(f('dicti nnaire'))\n",
    "print(f('z'))\n",
    "print(f('r re'))\n",
    "print(f('vio et'))\n",
    "print(f(\"fluioef'jrkluhy\"))"
   ]
  },
  {
   "cell_type": "markdown",
   "metadata": {},
   "source": [
    "On peut facilement construire un dictionnaire permettant de décoder un message en inversant les clef et les valeurs car toutes les valeurs sont différentes. On utilise la méthode de construcion par compréhension vue dans le cours.\n"
   ]
  },
  {
   "cell_type": "code",
   "execution_count": null,
   "metadata": {
    "trusted": true
   },
   "outputs": [
    {
     "name": "stdout",
     "output_type": "stream",
     "text": [
      "{111: 'a', 121: 'b', 211: 'c', 311: 'd', 151: 'e', 411: 'f', 113: 'g', 11: 'h', 21: 'i', 71: 'j', 19: 'k', 81: 'l', 100: 'm', 9: 'n', 1: 'o', 8: 'p', 1234: 'q', 1119: 'r', 4111: 's', 5111: 't', 555: 'u', 321: 'v', 0: 'w', 20: 'x', 30: 'y', 40: 'z', 951: ' ', 753: \"'\"}\n"
     ]
    }
   ],
   "source": [
    "decodage = {codage[clef] : clef for clef in codage  }\n",
    "print(decodage)"
   ]
  },
  {
   "cell_type": "markdown",
   "metadata": {},
   "source": [
    "2. Ecrire une fonction g de décodage qui renvoie le mot codé. Par exemple on devra avoir :\n",
    "```   python \n",
    ">>>g([121, 1, 9, 71, 1, 555, 1119])\n",
    "'bonjour'```\n"
   ]
  },
  {
   "cell_type": "code",
   "execution_count": null,
   "metadata": {
    "trusted": true
   },
   "outputs": [],
   "source": [
    "# Exercice 2 : question 2 (2+3 pts)\n",
    "# ------------------------ \n",
    "def g(liste:list[int])->str:\n",
    "    \"\"\"Explain:parcours dans la liste chaque code ascii  et renvois  l'ensemble de leur lettre\"\"\"\n",
    "    L_decod=''\n",
    "    for ele in liste:\n",
    "        L_decod+=(decodage[ele])\n",
    "    return L_decod\n"
   ]
  },
  {
   "cell_type": "markdown",
   "metadata": {},
   "source": [
    "# Pour les tests\n",
    "Vous devez créer des mots aléatoires qui sont codés par la fonction `f` puis vous devez vérifier que `g` redonne le même mot.\n",
    "\n",
    "Exemple\n",
    "```python\n",
    ">>>g(f(\"bonjour\"))\n",
    "\"bonjour\"\n",
    ">>>monMot=\"fantastique\"\n",
    ">>>g(f(monMot))==monMot\n",
    "True\n",
    "```"
   ]
  },
  {
   "cell_type": "code",
   "execution_count": null,
   "metadata": {
    "trusted": true
   },
   "outputs": [
    {
     "name": "stdout",
     "output_type": "stream",
     "text": [
      "test OK pour '  '\n",
      "test OK pour ' nfix '\n",
      "test OK pour ' dsexornvtcrh '\n",
      "test OK pour ' efnlavvf '\n",
      "test OK pour ' oqp '\n",
      "test OK pour ' vczcsrbuy '\n",
      "test OK pour ' vq '\n",
      "test OK pour ' jp '\n",
      "test OK pour ' mgmeigbqtf '\n",
      "test OK pour ' ghujbfsatnutjlqxni '\n",
      "test OK pour ' rqvyiccixos '\n",
      "test OK pour ' aumlyplxuzgd '\n",
      "test OK pour ' wkspiwefwenpkqqyw '\n",
      "test OK pour ' gla '\n",
      "test OK pour ' ntfbqzm '\n",
      "test OK pour ' lehvmjgastnrgw '\n",
      "test OK pour ' zblojfe '\n",
      "test OK pour ' qmshojv '\n",
      "test OK pour ' hudcdldca '\n",
      "test OK pour ' rvnwuignjprpy '\n"
     ]
    }
   ],
   "source": [
    "#TESTS , ATTENTION LA QUALITE ET LE NOMBRE DE TESTS EST EVALUES ( 3ts )\n",
    "import random\n",
    "import string\n",
    "\n",
    "# fonction par chatgpt\n",
    "def generer_mot_aleatoire():\n",
    "    longueur = random.randint(0, 20)\n",
    "    mot = ''.join(random.choice(string.ascii_lowercase) for _ in range(longueur))\n",
    "    return mot\n",
    "\n",
    "for _ in range(20):\n",
    "    mot = generer_mot_aleatoire()\n",
    "    if g(f(mot)) == mot:\n",
    "        print(\"test OK pour '\", mot, \"'\")\n",
    "    else:\n",
    "        print(\"test KO pour '\", mot, \"'\")"
   ]
  },
  {
   "cell_type": "markdown",
   "metadata": {},
   "source": [
    "## Exercice 3\n",
    "Voici un extrait de Wikipédia concernant le *jeu de cartes*.\n",
    "\n",
    "*Le jeu de cartes français ou jeu de 52 cartes est un jeu de cartes organisées en deux couleurs: noir et rouge et en quatre enseignes françaises : pique, cœur, carreau, trèfle.*\n",
    "\n",
    "On considère que la valeur d'une carte correspond à 2 si c'est un deux, 3 si c'est un trois, ..., 10 pour un dix, 11 pour un valet, 12 pour une dame, 13 pour un roi et 14 pour un as.\n",
    "\n",
    "1. Créer un dictionnaire nommé `valeur_carte` dont les clés sont les noms des cartes `(\"deux\",\"trois\",...,\"dix\" , \"valet\", \"Dame\", \"Roi\", \"As\")` et les valeurs les valeurs de ces clés. Par exemple votre dictionnaire devra renvoyer : \n",
    "\n",
    "``` python\n",
    ">>> valeur_carte['valet']\n",
    "11\n",
    "``` \n"
   ]
  },
  {
   "cell_type": "code",
   "execution_count": null,
   "metadata": {
    "trusted": true
   },
   "outputs": [],
   "source": [
    "# Exercice 3 : question 1 (1+1 pts)\n",
    "# ------------------------ \n",
    "valeur_carte={\"deux\":2,\"trois\":3,\"quatre\":4,\"cinq\":5,\"six\":6,\"sept\":7,\"huit\":8,\"neuf\":9,\"dix\":10,\n",
    "              \"valet\":11,\"Dame\":12, \"Roi\":13, \"As\":14}"
   ]
  },
  {
   "cell_type": "code",
   "execution_count": null,
   "metadata": {
    "trusted": true
   },
   "outputs": [
    {
     "name": "stdout",
     "output_type": "stream",
     "text": [
      "('deux', 2)\n",
      "('trois', 3)\n",
      "('quatre', 4)\n",
      "('cinq', 5)\n",
      "('six', 6)\n",
      "('sept', 7)\n",
      "('huit', 8)\n",
      "('neuf', 9)\n",
      "('dix', 10)\n",
      "('valet', 11)\n",
      "('Dame', 12)\n",
      "('Roi', 13)\n",
      "('As', 14)\n"
     ]
    }
   ],
   "source": [
    "#TESTS , ATTENTION LA QUALITE ET LE NOMBRE DE TESTS EST EVALUES (2pts)\n",
    "for ele in valeur_carte.items():\n",
    "    print(ele)\n",
    "    "
   ]
  },
  {
   "cell_type": "markdown",
   "metadata": {},
   "source": [
    "2. Créer un dictionnaire nommé `jeu_carte`  dont : \n",
    "    - les clés sont les 52 tuples `(nom, enseigne)` des cartes d'un jeu de 52 cartes : ` (\"deux\",\"pique\") , ... ,(\"as\",\"pique\"), (\"deux\",\"coeur\"), ... ,(\"as\",\"coeur\")...`\n",
    "    \n",
    "    sachant que les enseignes des cartes sont `trèfle`, `carreau`, `coeur` et `pique`.\n",
    "    - et les valeurs, les valeurs de ces cartes (clés). Par exemple votre dictionnaire devra renvoyer : \n",
    "    On peut le faire manuellement mais c'est long et fastudieux ou en automatisant le procédé. l'automatisation rapporte 5 pts mais le manuel 2pts et les tests 3 pts.\n",
    "``` python\n",
    ">>> jeu_carte[('dame','pique')]\n",
    "12\n",
    "\n",
    "```\n",
    " "
   ]
  },
  {
   "cell_type": "code",
   "execution_count": null,
   "metadata": {
    "trusted": true
   },
   "outputs": [
    {
     "name": "stdout",
     "output_type": "stream",
     "text": [
      "{('deux', 'trèfle'): 2, ('trois', 'trèfle'): 3, ('quatre', 'trèfle'): 4, ('cinq', 'trèfle'): 5, ('six', 'trèfle'): 6, ('sept', 'trèfle'): 7, ('huit', 'trèfle'): 8, ('neuf', 'trèfle'): 9, ('dix', 'trèfle'): 10, ('valet', 'trèfle'): 11, ('Dame', 'trèfle'): 12, ('Roi', 'trèfle'): 13, ('As', 'trèfle'): 14, ('deux', 'carreau'): 2, ('trois', 'carreau'): 3, ('quatre', 'carreau'): 4, ('cinq', 'carreau'): 5, ('six', 'carreau'): 6, ('sept', 'carreau'): 7, ('huit', 'carreau'): 8, ('neuf', 'carreau'): 9, ('dix', 'carreau'): 10, ('valet', 'carreau'): 11, ('Dame', 'carreau'): 12, ('Roi', 'carreau'): 13, ('As', 'carreau'): 14, ('deux', 'coeur'): 2, ('trois', 'coeur'): 3, ('quatre', 'coeur'): 4, ('cinq', 'coeur'): 5, ('six', 'coeur'): 6, ('sept', 'coeur'): 7, ('huit', 'coeur'): 8, ('neuf', 'coeur'): 9, ('dix', 'coeur'): 10, ('valet', 'coeur'): 11, ('Dame', 'coeur'): 12, ('Roi', 'coeur'): 13, ('As', 'coeur'): 14, ('deux', 'pique'): 2, ('trois', 'pique'): 3, ('quatre', 'pique'): 4, ('cinq', 'pique'): 5, ('six', 'pique'): 6, ('sept', 'pique'): 7, ('huit', 'pique'): 8, ('neuf', 'pique'): 9, ('dix', 'pique'): 10, ('valet', 'pique'): 11, ('Dame', 'pique'): 12, ('Roi', 'pique'): 13, ('As', 'pique'): 14}\n"
     ]
    }
   ],
   "source": [
    "# Exercice 3 : question 2 (3+2 pts)\n",
    "# ------------------------ \n",
    "jeu_carte={}\n",
    "enseigne=[\"trèfle\", \"carreau\", \"coeur\", \"pique\"]\n",
    "for ele2 in enseigne:\n",
    "    for ele1 in  valeur_carte.keys():\n",
    "        jeu_carte[ele1,ele2]=valeur_carte[ele1]\n",
    "print(jeu_carte)\n",
    "    \n",
    "    "
   ]
  },
  {
   "cell_type": "code",
   "execution_count": null,
   "metadata": {
    "trusted": true
   },
   "outputs": [
    {
     "name": "stdout",
     "output_type": "stream",
     "text": [
      "taille OK\n",
      "True\n"
     ]
    }
   ],
   "source": [
    "#TESTS , ATTENTION LA QUALITE ET LE NOMBRE DE TESTS EST EVALUES (3pts)\n",
    "test_len = len(jeu_carte) == 52\n",
    "if test_len:\n",
    "    print(\"taille OK\")\n",
    "else: \n",
    "    print(\"taille KO\")\n",
    "# somme de toutes les valeurs = 4 * (14 * 15 / 2 - 1) (4 enseignes fois la somme de 2 à 14)\n",
    "somme = 0\n",
    "for valeur in jeu_carte.values():\n",
    "    somme += valeur\n",
    "print(somme == 4 * (14 * 15 / 2 - 1))"
   ]
  },
  {
   "cell_type": "markdown",
   "metadata": {},
   "source": [
    "\n",
    "Si on veut sélectionner aléatoirement des éléments (créer un échantillon) sans remise d'une liste ou d'un dictionnaire on peut utiliser la fonction `random.sample()`. Par exemple pour obtenir un échantillon de taille 2 du dictionnaire test :"
   ]
  },
  {
   "cell_type": "code",
   "execution_count": null,
   "metadata": {
    "trusted": true
   },
   "outputs": [
    {
     "name": "stdout",
     "output_type": "stream",
     "text": [
      "[('trois', 'coeur'), ('as', 'coeur')]\n"
     ]
    }
   ],
   "source": [
    "test={('deux','pique'):2 , ('as','pique'):14, ('trois','coeur'):3,  ('as','coeur'):14}\n",
    "import random\n",
    "echant=random.sample(list(test.keys()), 2)\n",
    "print(echant)"
   ]
  },
  {
   "cell_type": "markdown",
   "metadata": {},
   "source": [
    "3. Créer une fonction `bataille(jeu_cartes)`, en utilisant les fonctions précédentes ou d'autres, qui va choisir au hasard deux cartes distinctes du jeu, les afficher, comparer leur valeurs et donner la carte gagnante ou le cas d'égalité. \n",
    "<span style=\"color:grey\">\n",
    "Vous devez afficher une phrase du type suivant: \n",
    "\n",
    "``` python\n",
    ">>> bataille(jeu_carte)\n",
    "('dame','coeur') de valeur 12 bat ('neuf','pique') de valeur 9\n",
    ">>> bataille(jeu_carte)\n",
    "('dix','coeur') de valeur 10 egale ('dix','pique') de valeur 10\n",
    "``` \n",
    "\n",
    "Encore mieux, cela serait:\n",
    "``` python\n",
    ">>> bataille(jeu_carte)\n",
    "dame de coeur de valeur 12 bat neuf de pique de valeur 9\n",
    ">>> bataille(jeu_carte)\n",
    "dix de coeur de valeur 10 egale dix de pique de valeur 10\n",
    "``` \n",
    "</span>"
   ]
  },
  {
   "cell_type": "code",
   "execution_count": null,
   "metadata": {
    "trusted": true
   },
   "outputs": [],
   "source": [
    "# Exercice 3 : question 4 (5+5 pts )\n",
    "# ------------------------\n",
    "import random\n",
    "\n",
    "def bataille(jeu_cartes:dict):\n",
    "    ''' carte 1 choisie, carte 2 choisie , les valeurs et la carte la plus forte \n",
    "        Action :  va choisir au hasard deux cartes distinctes du jeu, \n",
    "        les AFFICHER, comparer leur valeurs et AFFICHER la carte gagnante.'''\n",
    "    if len(jeu_cartes) <= 1:\n",
    "        print(\"il n y a pas assez de carte dans le paquet\")\n",
    "        return  \n",
    "    echant = random.sample(list(jeu_cartes.keys()), 2)\n",
    "    valeur1, enseigne1 = echant[0]\n",
    "    valeur2, enseigne2 = echant[1]\n",
    "    v1 = jeu_cartes[echant[0]]\n",
    "    v2 = jeu_cartes[echant[1]]\n",
    "    if v1 < v2:\n",
    "        print(valeur2, \"de\", enseigne2, \"de valeur\", v2,\"bat\", valeur1, \"de\", enseigne1, \"de valeur\", v1)\n",
    "    elif v2 < v1:\n",
    "        print(valeur1, \"de\", enseigne1, \"de valeur\", v1, \"bat\", valeur2, \"de\", enseigne2, \"de valeur\", v2)\n",
    "    else:\n",
    "        print(valeur1, \"de\", enseigne1, \"de valeur\", v1, \"egale\", valeur2, \"de\", enseigne2, \"de valeur\", v2)"
   ]
  },
  {
   "cell_type": "code",
   "execution_count": null,
   "metadata": {
    "trusted": true
   },
   "outputs": [
    {
     "name": "stdout",
     "output_type": "stream",
     "text": [
      "Dame de coeur de valeur 12 bat quatre de trèfle de valeur 4\n",
      "il n y a pas assez de carte dans le paquet\n",
      "il n y a pas assez de carte dans le paquet\n",
      "il n y a pas assez de carte dans le paquet\n",
      "trois de trèfle de valeur 3 bat deux de trèfle de valeur 2\n",
      "trois de trèfle de valeur 3 bat deux de trèfle de valeur 2\n",
      "deux de trèfle de valeur 2 egale deux de coeur de valeur 2\n"
     ]
    }
   ],
   "source": [
    "#TESTS , ATTENTION LA QUALITE ET LE NOMBRE DE TESTS EST EVALUES (7 pts)\n",
    "'''tirage au sort parmi les 52 cartes'''\n",
    "bataille(jeu_carte)\n",
    "'''dictionnaire trop petit'''\n",
    "bataille({})\n",
    "bataille({('deux', 'trèfle'):2})\n",
    "bataille({('deux', 'trèfle'):2,('deux', 'trèfle'):2})\n",
    "'''v1<v2'''\n",
    "bataille({('deux', 'trèfle'):2,('trois', 'trèfle'):3})\n",
    "'''v2<v1'''\n",
    "bataille({('trois', 'trèfle'):3,('deux', 'trèfle'):2})\n",
    "'''v1==v2'''\n",
    "bataille({('deux', 'trèfle'):2,('deux', 'coeur'):2})\n"
   ]
  },
  {
   "cell_type": "markdown",
   "metadata": {
    "trusted": false
   },
   "source": [
    "4. Testez votre `bataille` avec le jeu suivant:\n",
    "```python\n",
    "jeuDesZazous={('panda', 'tournesol'): 1, ('lion', 'tournesol'): 10, ('cheveuil', 'tournesol'): 4, ('chat', 'tournesol'): 2, ('chien', 'tournesol'): 3, ('panda', 'rose'): 1, ('lion', 'rose'): 10, ('cheveuil', 'rose'): 4, ('chat', 'rose'): 2, ('chien', 'rose'): 3}\n",
    "```\n",
    "Les figures sont des animaux et les couleurs sont des fleurs."
   ]
  },
  {
   "cell_type": "code",
   "execution_count": null,
   "metadata": {
    "trusted": true
   },
   "outputs": [
    {
     "name": "stdout",
     "output_type": "stream",
     "text": [
      "cheveuil de tournesol de valeur 4 bat chien de tournesol de valeur 3\n"
     ]
    }
   ],
   "source": [
    "jeuDesZazous={('panda', 'tournesol'): 1, ('lion', 'tournesol'): 10, ('cheveuil', 'tournesol'): 4, ('chat', 'tournesol'): 2, ('chien', 'tournesol'): 3, ('panda', 'rose'): 1, ('lion', 'rose'): 10, ('cheveuil', 'rose'): 4, ('chat', 'rose'): 2, ('chien', 'rose'): 3}\n",
    "bataille(jeuDesZazous)"
   ]
  },
  {
   "cell_type": "markdown",
   "metadata": {},
   "source": [
    "5. Créer une fonction `batailleReturn(jeu_cartes)` qui ne fait pas d'affichage mais retourne un triplet `(carte1,carte2,k)` contenant deux cartes selectionnés aléatoirement et k est entier \n",
    "+ k=1 si carte1 est gagnante, \n",
    "+ k=2 si carte2 est gagnante,\n",
    "+ k=0 s'il y a égalité\n",
    "\n",
    "Exemple\n",
    "```python\n",
    ">>>batailleReturn(jeu_cartes)\n",
    "(('dame','coeur'),('neuf','pique'),1)\n",
    ">>>batailleReturn(jeu_cartes)\n",
    "(('dame','coeur'),('as','pique'),2)\n",
    ">>>batailleReturn(jeu_cartes)\n",
    "(('dix','coeur'),('dix','pique'),0)\n",
    "```\n",
    "\n",
    "**ATTENTION TOUT `print` dans cette fonction est strictement interdit**. Cette fonction me sert à tester votre code."
   ]
  },
  {
   "cell_type": "code",
   "execution_count": null,
   "metadata": {
    "trusted": true
   },
   "outputs": [],
   "source": [
    "def batailleReturn(jeu_cartes:dict):\n",
    "    '''  carte 1 choisie, carte 2 choisie , les valeurs et la carte la plus forte \n",
    "        Action :  va choisir au hasard deux cartes distinctes du jeu comparer leur \n",
    "        valeurs et RETOURNER les deux cartes et le résultat'''\n",
    "    if len(jeu_cartes.keys())<=1:\n",
    "        print(\"il n y a pas assez de carte dans le paquet\")\n",
    "        return  \n",
    "    echant = random.sample(list(jeu_cartes.keys()), 2)\n",
    "    valeur1, enseigne1 = echant[0]\n",
    "    valeur2, enseigne2 = echant[1]\n",
    "    v1 = jeu_cartes[echant[0]]\n",
    "    v2 = jeu_cartes[echant[1]]\n",
    "    k = 3\n",
    "    if v1 < v2:\n",
    "        k = 2\n",
    "    elif v2 < v1:\n",
    "        k = 1\n",
    "    else:\n",
    "        k = 0\n",
    "    return (echant[0],echant[1],k)   "
   ]
  },
  {
   "cell_type": "code",
   "execution_count": null,
   "metadata": {
    "trusted": true
   },
   "outputs": [
    {
     "name": "stdout",
     "output_type": "stream",
     "text": [
      "(('huit', 'coeur'), ('valet', 'trèfle'), 2)\n",
      "(('cheveuil', 'tournesol'), ('cheveuil', 'rose'), 0)\n",
      "il n y a pas assez de carte dans le paquet\n",
      "None\n",
      "il n y a pas assez de carte dans le paquet\n",
      "None\n",
      "il n y a pas assez de carte dans le paquet\n",
      "None\n",
      "(('deux', 'trèfle'), ('trois', 'trèfle'), 2)\n",
      "(('trois', 'trèfle'), ('deux', 'trèfle'), 1)\n",
      "(('deux', 'trèfle'), ('deux', 'coeur'), 0)\n"
     ]
    }
   ],
   "source": [
    "'''tirage au sort parmi les 52 cartes'''\n",
    "print(batailleReturn(jeu_carte))\n",
    "'''tirage au sort parmi le jeu des zazous'''\n",
    "print(batailleReturn(jeuDesZazous))\n",
    "'''dictionnaire trop petit'''\n",
    "print(batailleReturn({}))\n",
    "print(batailleReturn({('deux', 'trèfle'):2}))\n",
    "print(batailleReturn({('deux', 'trèfle'):2,('deux', 'trèfle'):2}))\n",
    "'''v1<v2'''\n",
    "print(batailleReturn({('deux', 'trèfle'):2,('trois', 'trèfle'):3}))\n",
    "'''v2<v1'''\n",
    "print(batailleReturn({('trois', 'trèfle'):3,('deux', 'trèfle'):2}))\n",
    "'''v1==v2'''\n",
    "print(batailleReturn({('deux', 'trèfle'):2,('deux', 'coeur'):2}))\n"
   ]
  },
  {
   "cell_type": "code",
   "execution_count": null,
   "metadata": {
    "trusted": true
   },
   "outputs": [],
   "source": []
  }
 ],
 "metadata": {
  "kernelspec": {
   "display_name": "Python 3",
   "language": "python",
   "name": "python3"
  },
  "language_info": {
   "codemirror_mode": {
    "name": "ipython",
    "version": 3
   },
   "file_extension": ".py",
   "mimetype": "text/x-python",
   "name": "python",
   "nbconvert_exporter": "python",
   "pygments_lexer": "ipython3",
   "version": "3.11.4"
  }
 },
 "nbformat": 4,
 "nbformat_minor": 2
}
